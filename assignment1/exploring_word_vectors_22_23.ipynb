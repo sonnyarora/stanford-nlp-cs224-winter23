{
 "cells": [
  {
   "cell_type": "markdown",
   "metadata": {
    "id": "3HqK14JLSStR"
   },
   "source": [
    "# CS224N Assignment 1: Exploring Word Vectors (25 Points)\n",
    "### <font color='blue'> Due 4:30pm, Tue Jan 17 </font>\n",
    "\n",
    "Welcome to CS224N! \n",
    "\n",
    "Before you start, make sure you read the README.txt in the same directory as this notebook for important setup information. A lot of code is provided in this notebook, and we highly encourage you to read and understand it as part of the learning :)\n",
    "\n",
    "If you aren't super familiar with Python, Numpy, or Matplotlib, we recommend you check out the review session on Friday. The session will be recorded and the material will be made available on our [website](http://web.stanford.edu/class/cs224n/index.html#schedule). The CS231N Python/Numpy [tutorial](https://cs231n.github.io/python-numpy-tutorial/) is also a great resource.\n",
    "\n",
    "\n",
    "**Assignment Notes:** Please make sure to save the notebook as you go along. Submission Instructions are located at the bottom of the notebook."
   ]
  },
  {
   "cell_type": "code",
   "execution_count": 1,
   "metadata": {
    "id": "8AGQxROrSStf"
   },
   "outputs": [
    {
     "name": "stderr",
     "output_type": "stream",
     "text": [
      "[nltk_data] Downloading package reuters to\n",
      "[nltk_data]     /Users/sonnyarora/nltk_data...\n"
     ]
    }
   ],
   "source": [
    "# All Import Statements Defined Here\n",
    "# Note: Do not add to this list.\n",
    "# ----------------\n",
    "\n",
    "import sys\n",
    "assert sys.version_info[0]==3\n",
    "assert sys.version_info[1] >= 5\n",
    "\n",
    "from platform import python_version\n",
    "assert int(python_version().split(\".\")[1]) >= 5, \"Please upgrade your Python version following the instructions in \\\n",
    "    the README.txt file found in the same directory as this notebook. Your Python version is \" + python_version()\n",
    "\n",
    "from gensim.models import KeyedVectors\n",
    "from gensim.test.utils import datapath\n",
    "import pprint\n",
    "import matplotlib.pyplot as plt\n",
    "plt.rcParams['figure.figsize'] = [10, 5]\n",
    "\n",
    "import nltk\n",
    "nltk.download('reuters') #to specify download location, optionally add the argument: download_dir='/specify/desired/path/'\n",
    "from nltk.corpus import reuters\n",
    "\n",
    "import numpy as np\n",
    "import random\n",
    "import scipy as sp\n",
    "from sklearn.decomposition import TruncatedSVD\n",
    "from sklearn.decomposition import PCA\n",
    "\n",
    "START_TOKEN = '<START>'\n",
    "END_TOKEN = '<END>'\n",
    "\n",
    "np.random.seed(0)\n",
    "random.seed(0)\n",
    "# ----------------"
   ]
  },
  {
   "cell_type": "markdown",
   "metadata": {
    "id": "SICd5IedSSto"
   },
   "source": [
    "## Word Vectors\n",
    "\n",
    "Word Vectors are often used as a fundamental component for downstream NLP tasks, e.g. question answering, text generation, translation, etc., so it is important to build some intuitions as to their strengths and weaknesses. Here, you will explore two types of word vectors: those derived from *co-occurrence matrices*, and those derived via *GloVe*. \n",
    "\n",
    "**Note on Terminology:** The terms \"word vectors\" and \"word embeddings\" are often used interchangeably. The term \"embedding\" refers to the fact that we are encoding aspects of a word's meaning in a lower dimensional space. As [Wikipedia](https://en.wikipedia.org/wiki/Word_embedding) states, \"*conceptually it involves a mathematical embedding from a space with one dimension per word to a continuous vector space with a much lower dimension*\"."
   ]
  },
  {
   "cell_type": "markdown",
   "metadata": {
    "id": "6Eug6AVrSStr"
   },
   "source": [
    "## Part 1: Count-Based Word Vectors (10 points)\n",
    "\n",
    "Most word vector models start from the following idea:\n",
    "\n",
    "*You shall know a word by the company it keeps ([Firth, J. R. 1957:11](https://en.wikipedia.org/wiki/John_Rupert_Firth))*\n",
    "\n",
    "Many word vector implementations are driven by the idea that similar words, i.e., (near) synonyms, will be used in similar contexts. As a result, similar words will often be spoken or written along with a shared subset of words, i.e., contexts. By examining these contexts, we can try to develop embeddings for our words. With this intuition in mind, many \"old school\" approaches to constructing word vectors relied on word counts. Here we elaborate upon one of those strategies, *co-occurrence matrices* (for more information, see [here](https://web.stanford.edu/~jurafsky/slp3/6.pdf) or [here](https://medium.com/data-science-group-iitr/word-embedding-2d05d270b285))."
   ]
  },
  {
   "cell_type": "markdown",
   "metadata": {
    "id": "L6uQ9-DVSSts"
   },
   "source": [
    "### Co-Occurrence\n",
    "\n",
    "A co-occurrence matrix counts how often things co-occur in some environment. Given some word $w_i$ occurring in the document, we consider the *context window* surrounding $w_i$. Supposing our fixed window size is $n$, then this is the $n$ preceding and $n$ subsequent words in that document, i.e. words $w_{i-n} \\dots w_{i-1}$ and $w_{i+1} \\dots w_{i+n}$. We build a *co-occurrence matrix* $M$, which is a symmetric word-by-word matrix in which $M_{ij}$ is the number of times $w_j$ appears inside $w_i$'s window among all documents.\n",
    "\n",
    "**Example: Co-Occurrence with Fixed Window of n=1**:\n",
    "\n",
    "Document 1: \"all that glitters is not gold\"\n",
    "\n",
    "Document 2: \"all is well that ends well\"\n",
    "\n",
    "\n",
    "|     *    | `<START>` | all | that | glitters | is   | not  | gold  | well | ends | `<END>` |\n",
    "|----------|-------|-----|------|----------|------|------|-------|------|------|-----|\n",
    "| `<START>`    | 0     | 2   | 0    | 0        | 0    | 0    | 0     | 0    | 0    | 0   |\n",
    "| all      | 2     | 0   | 1    | 0        | 1    | 0    | 0     | 0    | 0    | 0   |\n",
    "| that     | 0     | 1   | 0    | 1        | 0    | 0    | 0     | 1    | 1    | 0   |\n",
    "| glitters | 0     | 0   | 1    | 0        | 1    | 0    | 0     | 0    | 0    | 0   |\n",
    "| is       | 0     | 1   | 0    | 1        | 0    | 1    | 0     | 1    | 0    | 0   |\n",
    "| not      | 0     | 0   | 0    | 0        | 1    | 0    | 1     | 0    | 0    | 0   |\n",
    "| gold     | 0     | 0   | 0    | 0        | 0    | 1    | 0     | 0    | 0    | 1   |\n",
    "| well     | 0     | 0   | 1    | 0        | 1    | 0    | 0     | 0    | 1    | 1   |\n",
    "| ends     | 0     | 0   | 1    | 0        | 0    | 0    | 0     | 1    | 0    | 0   |\n",
    "| `<END>`      | 0     | 0   | 0    | 0        | 0    | 0    | 1     | 1    | 0    | 0   |\n",
    "\n",
    "**Note:** In NLP, we often add `<START>` and `<END>` tokens to represent the beginning and end of sentences, paragraphs or documents. In this case we imagine `<START>` and `<END>` tokens encapsulating each document, e.g., \"`<START>` All that glitters is not gold `<END>`\", and include these tokens in our co-occurrence counts.\n",
    "\n",
    "The rows (or columns) of this matrix provide one type of word vectors (those based on word-word co-occurrence), but the vectors will be large in general (linear in the number of distinct words in a corpus). Thus, our next step is to run *dimensionality reduction*. In particular, we will run *SVD (Singular Value Decomposition)*, which is a kind of generalized *PCA (Principal Components Analysis)* to select the top $k$ principal components. Here's a visualization of dimensionality reduction with SVD. In this picture our co-occurrence matrix is $A$ with $n$ rows corresponding to $n$ words. We obtain a full matrix decomposition, with the singular values ordered in the diagonal $S$ matrix, and our new, shorter length-$k$ word vectors in $U_k$.\n",
    "\n",
    "![Picture of an SVD](./imgs/svd.png \"SVD\")\n",
    "\n",
    "This reduced-dimensionality co-occurrence representation preserves semantic relationships between words, e.g. *doctor* and *hospital* will be closer than *doctor* and *dog*. \n",
    "\n",
    "**Notes:** If you can barely remember what an eigenvalue is, here's [a slow, friendly introduction to SVD](https://davetang.org/file/Singular_Value_Decomposition_Tutorial.pdf). If you want to learn more thoroughly about PCA or SVD, feel free to check out lectures [7](https://web.stanford.edu/class/cs168/l/l7.pdf), [8](http://theory.stanford.edu/~tim/s15/l/l8.pdf), and [9](https://web.stanford.edu/class/cs168/l/l9.pdf) of CS168. These course notes provide a great high-level treatment of these general purpose algorithms. Though, for the purpose of this class, you only need to know how to extract the k-dimensional embeddings by utilizing pre-programmed implementations of these algorithms from the numpy, scipy, or sklearn python packages. In practice, it is challenging to apply full SVD to large corpora because of the memory needed to perform PCA or SVD. However, if you only want the top $k$ vector components for relatively small $k$ — known as [Truncated SVD](https://en.wikipedia.org/wiki/Singular_value_decomposition#Truncated_SVD) — then there are reasonably scalable techniques to compute those iteratively."
   ]
  },
  {
   "cell_type": "markdown",
   "metadata": {
    "id": "7IKeK4xtSStv"
   },
   "source": [
    "### Plotting Co-Occurrence Word Embeddings\n",
    "\n",
    "Here, we will be using the Reuters (business and financial news) corpus. If you haven't run the import cell at the top of this page, please run it now (click it and press SHIFT-RETURN). The corpus consists of 10,788 news documents totaling 1.3 million words. These documents span 90 categories and are split into train and test. For more details, please see https://www.nltk.org/book/ch02.html. We provide a `read_corpus` function below that pulls out only articles from the \"gold\" (i.e. news articles about gold, mining, etc.) category. The function also adds `<START>` and `<END>` tokens to each of the documents, and lowercases words. You do **not** have to perform any other kind of pre-processing."
   ]
  },
  {
   "cell_type": "code",
   "execution_count": 3,
   "metadata": {
    "id": "xwD2htUoSStw"
   },
   "outputs": [],
   "source": [
    "def read_corpus(category=\"gold\"):\n",
    "    \"\"\" Read files from the specified Reuter's category.\n",
    "        Params:\n",
    "            category (string): category name\n",
    "        Return:\n",
    "            list of lists, with words from each of the processed files\n",
    "    \"\"\"\n",
    "    files = reuters.fileids(category)\n",
    "    return [[START_TOKEN] + [w.lower() for w in list(reuters.words(f))] + [END_TOKEN] for f in files]\n"
   ]
  },
  {
   "cell_type": "markdown",
   "metadata": {
    "id": "hVLquFhjSStx"
   },
   "source": [
    "Let's have a look what these documents are like…."
   ]
  },
  {
   "cell_type": "code",
   "execution_count": 4,
   "metadata": {
    "id": "mC7B9Cb-SSty",
    "scrolled": false
   },
   "outputs": [
    {
     "name": "stdout",
     "output_type": "stream",
     "text": [
      "[['<START>', 'western', 'mining', 'to', 'open', 'new', 'gold', 'mine', 'in', 'australia', 'western',\n",
      "  'mining', 'corp', 'holdings', 'ltd', '&', 'lt', ';', 'wmng', '.', 's', '>', '(', 'wmc', ')',\n",
      "  'said', 'it', 'will', 'establish', 'a', 'new', 'joint', 'venture', 'gold', 'mine', 'in', 'the',\n",
      "  'northern', 'territory', 'at', 'a', 'cost', 'of', 'about', '21', 'mln', 'dlrs', '.', 'the',\n",
      "  'mine', ',', 'to', 'be', 'known', 'as', 'the', 'goodall', 'project', ',', 'will', 'be', 'owned',\n",
      "  '60', 'pct', 'by', 'wmc', 'and', '40', 'pct', 'by', 'a', 'local', 'w', '.', 'r', '.', 'grace',\n",
      "  'and', 'co', '&', 'lt', ';', 'gra', '>', 'unit', '.', 'it', 'is', 'located', '30', 'kms', 'east',\n",
      "  'of', 'the', 'adelaide', 'river', 'at', 'mt', '.', 'bundey', ',', 'wmc', 'said', 'in', 'a',\n",
      "  'statement', 'it', 'said', 'the', 'open', '-', 'pit', 'mine', ',', 'with', 'a', 'conventional',\n",
      "  'leach', 'treatment', 'plant', ',', 'is', 'expected', 'to', 'produce', 'about', '50', ',', '000',\n",
      "  'ounces', 'of', 'gold', 'in', 'its', 'first', 'year', 'of', 'production', 'from', 'mid', '-',\n",
      "  '1988', '.', 'annual', 'ore', 'capacity', 'will', 'be', 'about', '750', ',', '000', 'tonnes', '.',\n",
      "  '<END>'],\n",
      " ['<START>', 'belgium', 'to', 'issue', 'gold', 'warrants', ',', 'sources', 'say', 'belgium',\n",
      "  'plans', 'to', 'issue', 'swiss', 'franc', 'warrants', 'to', 'buy', 'gold', ',', 'with', 'credit',\n",
      "  'suisse', 'as', 'lead', 'manager', ',', 'market', 'sources', 'said', '.', 'no', 'confirmation',\n",
      "  'or', 'further', 'details', 'were', 'immediately', 'available', '.', '<END>'],\n",
      " ['<START>', 'belgium', 'launches', 'bonds', 'with', 'gold', 'warrants', 'the', 'kingdom', 'of',\n",
      "  'belgium', 'is', 'launching', '100', 'mln', 'swiss', 'francs', 'of', 'seven', 'year', 'notes',\n",
      "  'with', 'warrants', 'attached', 'to', 'buy', 'gold', ',', 'lead', 'mananger', 'credit', 'suisse',\n",
      "  'said', '.', 'the', 'notes', 'themselves', 'have', 'a', '3', '-', '3', '/', '8', 'pct', 'coupon',\n",
      "  'and', 'are', 'priced', 'at', 'par', '.', 'payment', 'is', 'due', 'april', '30', ',', '1987',\n",
      "  'and', 'final', 'maturity', 'april', '30', ',', '1994', '.', 'each', '50', ',', '000', 'franc',\n",
      "  'note', 'carries', '15', 'warrants', '.', 'two', 'warrants', 'are', 'required', 'to', 'allow',\n",
      "  'the', 'holder', 'to', 'buy', '100', 'grammes', 'of', 'gold', 'at', 'a', 'price', 'of', '2', ',',\n",
      "  '450', 'francs', ',', 'during', 'the', 'entire', 'life', 'of', 'the', 'bond', '.', 'the',\n",
      "  'latest', 'gold', 'price', 'in', 'zurich', 'was', '2', ',', '045', '/', '2', ',', '070', 'francs',\n",
      "  'per', '100', 'grammes', '.', '<END>']]\n"
     ]
    }
   ],
   "source": [
    "reuters_corpus = read_corpus()\n",
    "pprint.pprint(reuters_corpus[:3], compact=True, width=100)"
   ]
  },
  {
   "cell_type": "markdown",
   "metadata": {
    "id": "tfa216H1SSt0"
   },
   "source": [
    "### Question 1.1: Implement `distinct_words` [code] (2 points)\n",
    "\n",
    "Write a method to work out the distinct words (word types) that occur in the corpus. You can do this with `for` loops, but it's more efficient to do it with Python list comprehensions. In particular, [this](https://coderwall.com/p/rcmaea/flatten-a-list-of-lists-in-one-line-in-python) may be useful to flatten a list of lists. If you're not familiar with Python list comprehensions in general, here's [more information](https://python-3-patterns-idioms-test.readthedocs.io/en/latest/Comprehensions.html).\n",
    "\n",
    "Your returned `corpus_words` should be sorted. You can use python's `sorted` function for this.\n",
    "\n",
    "You may find it useful to use [Python sets](https://www.w3schools.com/python/python_sets.asp) to remove duplicate words."
   ]
  },
  {
   "cell_type": "code",
   "execution_count": 10,
   "metadata": {
    "id": "NjJABbVFSSt1"
   },
   "outputs": [],
   "source": [
    "import itertools\n",
    "\n",
    "def distinct_words(corpus):\n",
    "    \"\"\" Determine a list of distinct words for the corpus.\n",
    "        Params:\n",
    "            corpus (list of list of strings): corpus of documents\n",
    "        Return:\n",
    "            corpus_words (list of strings): sorted list of distinct words across the corpus\n",
    "            n_corpus_words (integer): number of distinct words across the corpus\n",
    "    \"\"\"\n",
    "    corpus_words = []\n",
    "    n_corpus_words = -1\n",
    "    \n",
    "    ### SOLUTION BEGIN\n",
    "    corpus_words = sorted(list(set(itertools.chain(*corpus))))\n",
    "    n_corpus_words = len(corpus_words)\n",
    "    ### SOLUTION END\n",
    "\n",
    "    return corpus_words, n_corpus_words"
   ]
  },
  {
   "cell_type": "code",
   "execution_count": 11,
   "metadata": {
    "id": "iKfXBXySSSt3"
   },
   "outputs": [
    {
     "name": "stdout",
     "output_type": "stream",
     "text": [
      "--------------------------------------------------------------------------------\n",
      "Passed All Tests!\n",
      "--------------------------------------------------------------------------------\n"
     ]
    }
   ],
   "source": [
    "# ---------------------\n",
    "# Run this sanity check\n",
    "# Note that this not an exhaustive check for correctness.\n",
    "# ---------------------\n",
    "\n",
    "# Define toy corpus\n",
    "test_corpus = [\"{} All that glitters isn't gold {}\".format(START_TOKEN, END_TOKEN).split(\" \"), \"{} All's well that ends well {}\".format(START_TOKEN, END_TOKEN).split(\" \")]\n",
    "test_corpus_words, num_corpus_words = distinct_words(test_corpus)\n",
    "\n",
    "# Correct answers\n",
    "ans_test_corpus_words = sorted([START_TOKEN, \"All\", \"ends\", \"that\", \"gold\", \"All's\", \"glitters\", \"isn't\", \"well\", END_TOKEN])\n",
    "ans_num_corpus_words = len(ans_test_corpus_words)\n",
    "\n",
    "# Test correct number of words\n",
    "assert(num_corpus_words == ans_num_corpus_words), \"Incorrect number of distinct words. Correct: {}. Yours: {}\".format(ans_num_corpus_words, num_corpus_words)\n",
    "\n",
    "# Test correct words\n",
    "assert (test_corpus_words == ans_test_corpus_words), \"Incorrect corpus_words.\\nCorrect: {}\\nYours:   {}\".format(str(ans_test_corpus_words), str(test_corpus_words))\n",
    "\n",
    "# Print Success\n",
    "print (\"-\" * 80)\n",
    "print(\"Passed All Tests!\")\n",
    "print (\"-\" * 80)"
   ]
  },
  {
   "cell_type": "markdown",
   "metadata": {
    "id": "ymDFJn_lSSt5"
   },
   "source": [
    "### Question 1.2: Implement `compute_co_occurrence_matrix` [code] (3 points)\n",
    "\n",
    "Write a method that constructs a co-occurrence matrix for a certain window-size $n$ (with a default of 4), considering words $n$ before and $n$ after the word in the center of the window. Here, we start to use `numpy (np)` to represent vectors, matrices, and tensors. If you're not familiar with NumPy, there's a NumPy tutorial in the second half of this cs231n [Python NumPy tutorial](http://cs231n.github.io/python-numpy-tutorial/).\n"
   ]
  },
  {
   "cell_type": "code",
   "execution_count": 46,
   "metadata": {
    "id": "v8MIy3KDSSt6"
   },
   "outputs": [
    {
     "name": "stdout",
     "output_type": "stream",
     "text": [
      "{'<END>': 0, '<START>': 1, 'All': 2, \"All's\": 3, 'ends': 4, 'glitters': 5, 'gold': 6, \"isn't\": 7, 'that': 8, 'well': 9}\n"
     ]
    }
   ],
   "source": [
    "def compute_co_occurrence_matrix(corpus, window_size=4):\n",
    "    \"\"\" Compute co-occurrence matrix for the given corpus and window_size (default of 4).\n",
    "    \n",
    "        Note: Each word in a document should be at the center of a window. Words near edges will have a smaller\n",
    "              number of co-occurring words.\n",
    "              \n",
    "              For example, if we take the document \"<START> All that glitters is not gold <END>\" with window size of 4,\n",
    "              \"All\" will co-occur with \"<START>\", \"that\", \"glitters\", \"is\", and \"not\".\n",
    "    \n",
    "        Params:\n",
    "            corpus (list of list of strings): corpus of documents\n",
    "            window_size (int): size of context window\n",
    "        Return:\n",
    "            M (a symmetric numpy matrix of shape (number of unique words in the corpus , number of unique words in the corpus)): \n",
    "                Co-occurence matrix of word counts. \n",
    "                The ordering of the words in the rows/columns should be the same as the ordering of the words given by the distinct_words function.\n",
    "            word2ind (dict): dictionary that maps word to index (i.e. row/column number) for matrix M.\n",
    "    \"\"\"\n",
    "    words, n_words = distinct_words(corpus)\n",
    "    M = None\n",
    "    word2ind = {}\n",
    "    \n",
    "    ### SOLUTION BEGIN\n",
    "    M = np.zeros([n_words, n_words])\n",
    "    word2ind = dict(zip(words, range(n_words)))\n",
    "    \n",
    "    for document in corpus:\n",
    "        for i, word in enumerate(document):\n",
    "            for j in range(1, window_size+1):\n",
    "                for k in [-1,1]:\n",
    "                    m = j*k\n",
    "                    if 0 <= i+m < len(document):\n",
    "                        M[word2ind[word], word2ind[document[i+m]]] += 1\n",
    "    ### SOLUTION END\n",
    "\n",
    "    return M, word2ind"
   ]
  },
  {
   "cell_type": "code",
   "execution_count": 47,
   "metadata": {
    "id": "u-6ID1qhSSt7"
   },
   "outputs": [
    {
     "name": "stdout",
     "output_type": "stream",
     "text": [
      "{'<END>': 0, '<START>': 1, 'All': 2, \"All's\": 3, 'ends': 4, 'glitters': 5, 'gold': 6, \"isn't\": 7, 'that': 8, 'well': 9}\n",
      "--------------------------------------------------------------------------------\n",
      "Passed All Tests!\n",
      "--------------------------------------------------------------------------------\n"
     ]
    }
   ],
   "source": [
    "# ---------------------\n",
    "# Run this sanity check\n",
    "# Note that this is not an exhaustive check for correctness.\n",
    "# ---------------------\n",
    "\n",
    "# Define toy corpus and get student's co-occurrence matrix\n",
    "test_corpus = [\"{} All that glitters isn't gold {}\".format(START_TOKEN, END_TOKEN).split(\" \"), \"{} All's well that ends well {}\".format(START_TOKEN, END_TOKEN).split(\" \")]\n",
    "M_test, word2ind_test = compute_co_occurrence_matrix(test_corpus, window_size=1)\n",
    "\n",
    "# Correct M and word2ind\n",
    "M_test_ans = np.array( \n",
    "    [[0., 0., 0., 0., 0., 0., 1., 0., 0., 1.,],\n",
    "     [0., 0., 1., 1., 0., 0., 0., 0., 0., 0.,],\n",
    "     [0., 1., 0., 0., 0., 0., 0., 0., 1., 0.,],\n",
    "     [0., 1., 0., 0., 0., 0., 0., 0., 0., 1.,],\n",
    "     [0., 0., 0., 0., 0., 0., 0., 0., 1., 1.,],\n",
    "     [0., 0., 0., 0., 0., 0., 0., 1., 1., 0.,],\n",
    "     [1., 0., 0., 0., 0., 0., 0., 1., 0., 0.,],\n",
    "     [0., 0., 0., 0., 0., 1., 1., 0., 0., 0.,],\n",
    "     [0., 0., 1., 0., 1., 1., 0., 0., 0., 1.,],\n",
    "     [1., 0., 0., 1., 1., 0., 0., 0., 1., 0.,]]\n",
    ")\n",
    "ans_test_corpus_words = sorted([START_TOKEN, \"All\", \"ends\", \"that\", \"gold\", \"All's\", \"glitters\", \"isn't\", \"well\", END_TOKEN])\n",
    "word2ind_ans = dict(zip(ans_test_corpus_words, range(len(ans_test_corpus_words))))\n",
    "\n",
    "# Test correct word2ind\n",
    "assert (word2ind_ans == word2ind_test), \"Your word2ind is incorrect:\\nCorrect: {}\\nYours: {}\".format(word2ind_ans, word2ind_test)\n",
    "\n",
    "# Test correct M shape\n",
    "assert (M_test.shape == M_test_ans.shape), \"M matrix has incorrect shape.\\nCorrect: {}\\nYours: {}\".format(M_test.shape, M_test_ans.shape)\n",
    "\n",
    "# Test correct M values\n",
    "for w1 in word2ind_ans.keys():\n",
    "    idx1 = word2ind_ans[w1]\n",
    "    for w2 in word2ind_ans.keys():\n",
    "        idx2 = word2ind_ans[w2]\n",
    "        student = M_test[idx1, idx2]\n",
    "        correct = M_test_ans[idx1, idx2]\n",
    "        if student != correct:\n",
    "            print(\"Correct M:\")\n",
    "            print(M_test_ans)\n",
    "            print(\"Your M: \")\n",
    "            print(M_test)\n",
    "            raise AssertionError(\"Incorrect count at index ({}, {})=({}, {}) in matrix M. Yours has {} but should have {}.\".format(idx1, idx2, w1, w2, student, correct))\n",
    "\n",
    "# Print Success\n",
    "print (\"-\" * 80)\n",
    "print(\"Passed All Tests!\")\n",
    "print (\"-\" * 80)"
   ]
  },
  {
   "cell_type": "markdown",
   "metadata": {
    "id": "K-nyJnAASSt9"
   },
   "source": [
    "### Question 1.3: Implement `reduce_to_k_dim` [code] (1 point)\n",
    "\n",
    "Construct a method that performs dimensionality reduction on the matrix to produce k-dimensional embeddings. Use SVD to take the top k components and produce a new matrix of k-dimensional embeddings. \n",
    "\n",
    "**Note:** All of numpy, scipy, and scikit-learn (`sklearn`) provide *some* implementation of SVD, but only scipy and sklearn provide an implementation of Truncated SVD, and only sklearn provides an efficient randomized algorithm for calculating large-scale Truncated SVD. So please use [sklearn.decomposition.TruncatedSVD](https://scikit-learn.org/stable/modules/generated/sklearn.decomposition.TruncatedSVD.html)."
   ]
  },
  {
   "cell_type": "code",
   "execution_count": 52,
   "metadata": {
    "id": "truGMjifSSt9"
   },
   "outputs": [],
   "source": [
    "def reduce_to_k_dim(M, k=2):\n",
    "    \"\"\" Reduce a co-occurence count matrix of dimensionality (num_corpus_words, num_corpus_words)\n",
    "        to a matrix of dimensionality (num_corpus_words, k) using the following SVD function from Scikit-Learn:\n",
    "            - http://scikit-learn.org/stable/modules/generated/sklearn.decomposition.TruncatedSVD.html\n",
    "    \n",
    "        Params:\n",
    "            M (numpy matrix of shape (number of unique words in the corpus , number of unique words in the corpus)): co-occurence matrix of word counts\n",
    "            k (int): embedding size of each word after dimension reduction\n",
    "        Return:\n",
    "            M_reduced (numpy matrix of shape (number of corpus words, k)): matrix of k-dimensioal word embeddings.\n",
    "                    In terms of the SVD from math class, this actually returns U * S\n",
    "    \"\"\"    \n",
    "    n_iters = 10     # Use this parameter in your call to `TruncatedSVD`\n",
    "    M_reduced = None\n",
    "    print(\"Running Truncated SVD over %i words...\" % (M.shape[0]))\n",
    "    \n",
    "    ### SOLUTION BEGIN\n",
    "    svd = TruncatedSVD(k, n_iter = n_iters)\n",
    "    svd.fit(M)\n",
    "    M_reduced = svd.transform(M)\n",
    "    ### SOLUTION END\n",
    "\n",
    "    print(\"Done.\")\n",
    "    return M_reduced"
   ]
  },
  {
   "cell_type": "code",
   "execution_count": 53,
   "metadata": {
    "id": "7pqKuqvhSSt-"
   },
   "outputs": [
    {
     "name": "stdout",
     "output_type": "stream",
     "text": [
      "{'<END>': 0, '<START>': 1, 'All': 2, \"All's\": 3, 'ends': 4, 'glitters': 5, 'gold': 6, \"isn't\": 7, 'that': 8, 'well': 9}\n",
      "Running Truncated SVD over 10 words...\n",
      "Done.\n",
      "--------------------------------------------------------------------------------\n",
      "Passed All Tests!\n",
      "--------------------------------------------------------------------------------\n"
     ]
    }
   ],
   "source": [
    "# ---------------------\n",
    "# Run this sanity check\n",
    "# Note that this is not an exhaustive check for correctness \n",
    "# In fact we only check that your M_reduced has the right dimensions.\n",
    "# ---------------------\n",
    "\n",
    "# Define toy corpus and run student code\n",
    "test_corpus = [\"{} All that glitters isn't gold {}\".format(START_TOKEN, END_TOKEN).split(\" \"), \"{} All's well that ends well {}\".format(START_TOKEN, END_TOKEN).split(\" \")]\n",
    "M_test, word2ind_test = compute_co_occurrence_matrix(test_corpus, window_size=1)\n",
    "M_test_reduced = reduce_to_k_dim(M_test, k=2)\n",
    "\n",
    "# Test proper dimensions\n",
    "assert (M_test_reduced.shape[0] == 10), \"M_reduced has {} rows; should have {}\".format(M_test_reduced.shape[0], 10)\n",
    "assert (M_test_reduced.shape[1] == 2), \"M_reduced has {} columns; should have {}\".format(M_test_reduced.shape[1], 2)\n",
    "\n",
    "# Print Success\n",
    "print (\"-\" * 80)\n",
    "print(\"Passed All Tests!\")\n",
    "print (\"-\" * 80)"
   ]
  },
  {
   "cell_type": "markdown",
   "metadata": {
    "id": "apZknsLoSSt_"
   },
   "source": [
    "### Question 1.4: Implement `plot_embeddings` [code] (1 point)\n",
    "\n",
    "Here you will write a function to plot a set of 2D vectors in 2D space. For graphs, we will use Matplotlib (`plt`).\n",
    "\n",
    "For this example, you may find it useful to adapt [this code](http://web.archive.org/web/20190924160434/https://www.pythonmembers.club/2018/05/08/matplotlib-scatter-plot-annotate-set-text-at-label-each-point/). In the future, a good way to make a plot is to look at [the Matplotlib gallery](https://matplotlib.org/gallery/index.html), find a plot that looks somewhat like what you want, and adapt the code they give."
   ]
  },
  {
   "cell_type": "code",
   "execution_count": 60,
   "metadata": {
    "id": "dDcCZE5lSSuA"
   },
   "outputs": [],
   "source": [
    "def plot_embeddings(M_reduced, word2ind, words):\n",
    "    \"\"\" Plot in a scatterplot the embeddings of the words specified in the list \"words\".\n",
    "        NOTE: do not plot all the words listed in M_reduced / word2ind.\n",
    "        Include a label next to each point.\n",
    "        \n",
    "        Params:\n",
    "            M_reduced (numpy matrix of shape (number of unique words in the corpus , 2)): matrix of 2-dimensioal word embeddings\n",
    "            word2ind (dict): dictionary that maps word to indices for matrix M\n",
    "            words (list of strings): words whose embeddings we want to visualize\n",
    "    \"\"\"\n",
    "\n",
    "    ### SOLUTION BEGIN\n",
    "    for word in words:\n",
    "        row = M_reduced[word2ind[word]]\n",
    "        x = row[0]\n",
    "        y = row[1]\n",
    "        plt.scatter(x, y, marker='x', color='red')\n",
    "        plt.text(x+0.05, y+0.05, word, fontsize=9)\n",
    "    ### SOLUTION END\n",
    "    plt.show()"
   ]
  },
  {
   "cell_type": "code",
   "execution_count": 61,
   "metadata": {
    "id": "gHxOMWPxSSuB"
   },
   "outputs": [
    {
     "name": "stdout",
     "output_type": "stream",
     "text": [
      "--------------------------------------------------------------------------------\n",
      "Outputted Plot:\n"
     ]
    },
    {
     "data": {
      "image/png": "[encoded data removed]",
      "text/plain": [
       "<Figure size 1000x500 with 1 Axes>"
      ]
     },
     "metadata": {},
     "output_type": "display_data"
    },
    {
     "name": "stdout",
     "output_type": "stream",
     "text": [
      "--------------------------------------------------------------------------------\n"
     ]
    }
   ],
   "source": [
    "# ---------------------\n",
    "# Run this sanity check\n",
    "# Note that this is not an exhaustive check for correctness.\n",
    "# The plot produced should look like the \"test solution plot\" depicted below. \n",
    "# ---------------------\n",
    "\n",
    "print (\"-\" * 80)\n",
    "print (\"Outputted Plot:\")\n",
    "\n",
    "M_reduced_plot_test = np.array([[1, 1], [-1, -1], [1, -1], [-1, 1], [0, 0]])\n",
    "word2ind_plot_test = {'test1': 0, 'test2': 1, 'test3': 2, 'test4': 3, 'test5': 4}\n",
    "words = ['test1', 'test2', 'test3', 'test4', 'test5']\n",
    "plot_embeddings(M_reduced_plot_test, word2ind_plot_test, words)\n",
    "\n",
    "print (\"-\" * 80)"
   ]
  },
  {
   "cell_type": "markdown",
   "metadata": {
    "id": "YpBzYs2hSSuC"
   },
   "source": [
    "### Question 1.5: Co-Occurrence Plot Analysis [written] (3 points)\n",
    "\n",
    "Now we will put together all the parts you have written! We will compute the co-occurrence matrix with fixed window of 4 (the default window size), over the Reuters \"gold\" corpus. Then we will use TruncatedSVD to compute 2-dimensional embeddings of each word. TruncatedSVD returns U\\*S, so we need to normalize the returned vectors, so that all the vectors will appear around the unit circle (therefore closeness is directional closeness). **Note**: The line of code below that does the normalizing uses the NumPy concept of *broadcasting*. If you don't know about broadcasting, check out\n",
    "[Computation on Arrays: Broadcasting by Jake VanderPlas](https://jakevdp.github.io/PythonDataScienceHandbook/02.05-computation-on-arrays-broadcasting.html).\n",
    "\n",
    "Run the below cell to produce the plot. It'll probably take a few seconds to run."
   ]
  },
  {
   "cell_type": "code",
   "execution_count": 62,
   "metadata": {
    "id": "7L1Uk50mSSuD",
    "scrolled": false
   },
   "outputs": [
    {
     "name": "stdout",
     "output_type": "stream",
     "text": [
      "{'\"': 0, '&': 1, \"'\": 2, '(': 3, ')': 4, '),': 5, ').': 6, ',': 7, ',\"': 8, ',.': 9, '-': 10, '--': 11, '.': 12, '.\"': 13, '.,': 14, '..': 15, '...': 16, '/': 17, '0': 18, '00': 19, '000': 20, '008': 21, '011': 22, '02': 23, '025': 24, '026': 25, '027': 26, '045': 27, '046': 28, '05': 29, '050': 30, '055': 31, '057': 32, '062': 33, '064': 34, '068': 35, '070': 36, '073': 37, '077': 38, '078': 39, '08': 40, '09': 41, '1': 42, '10': 43, '100': 44, '103': 45, '104': 46, '105': 47, '106': 48, '108': 49, '11': 50, '112': 51, '116': 52, '118': 53, '12': 54, '120': 55, '1200': 56, '123': 57, '127': 58, '129': 59, '13': 60, '130': 61, '132': 62, '133': 63, '139': 64, '14': 65, '140': 66, '141': 67, '145': 68, '15': 69, '150': 70, '151': 71, '158': 72, '16': 73, '160': 74, '161': 75, '163': 76, '166': 77, '17': 78, '170': 79, '171': 80, '172': 81, '177': 82, '18': 83, '183': 84, '185': 85, '187': 86, '1896': 87, '19': 88, '190': 89, '1904': 90, '191': 91, '192': 92, '1926': 93, '193': 94, '1931': 95, '1937': 96, '194': 97, '1955': 98, '1967': 99, '1971': 100, '1978': 101, '1979': 102, '1980': 103, '1981': 104, '1982': 105, '1983': 106, '1984': 107, '1985': 108, '1986': 109, '1987': 110, '1988': 111, '1989': 112, '1990': 113, '1990s': 114, '1991': 115, '1992': 116, '1994': 117, '2': 118, '20': 119, '200': 120, '201': 121, '206': 122, '207': 123, '21': 124, '211': 125, '212': 126, '22': 127, '221': 128, '222': 129, '223': 130, '225': 131, '226': 132, '23': 133, '2354': 134, '237': 135, '24': 136, '240': 137, '243': 138, '244': 139, '25': 140, '250': 141, '251': 142, '257': 143, '26': 144, '262': 145, '265': 146, '266': 147, '268': 148, '27': 149, '28': 150, '29': 151, '293': 152, '2nd': 153, '3': 154, '30': 155, '300': 156, '302': 157, '30th': 158, '31': 159, '32': 160, '320': 161, '322': 162, '33': 163, '342': 164, '35': 165, '350': 166, '355': 167, '36': 168, '360': 169, '368': 170, '37': 171, '374': 172, '375': 173, '38': 174, '380': 175, '39': 176, '390': 177, '392': 178, '3rd': 179, '4': 180, '40': 181, '400': 182, '408': 183, '409': 184, '41': 185, '410': 186, '411': 187, '416': 188, '418': 189, '42': 190, '422': 191, '425': 192, '43': 193, '430': 194, '432': 195, '433': 196, '434': 197, '436': 198, '44': 199, '440': 200, '447': 201, '45': 202, '450': 203, '457': 204, '458': 205, '460': 206, '462': 207, '468': 208, '47': 209, '470': 210, '474': 211, '475': 212, '48': 213, '49': 214, '490': 215, '5': 216, '50': 217, '500': 218, '51': 219, '510': 220, '514': 221, '528': 222, '530': 223, '531': 224, '538': 225, '540': 226, '545': 227, '55': 228, '56': 229, '57': 230, '577': 231, '578': 232, '580': 233, '583': 234, '585': 235, '59': 236, '594': 237, '6': 238, '60': 239, '600': 240, '60th': 241, '61': 242, '611': 243, '612': 244, '62': 245, '626': 246, '627': 247, '63': 248, '638': 249, '64': 250, '640': 251, '65': 252, '650': 253, '653': 254, '66': 255, '666': 256, '669': 257, '67': 258, '671': 259, '678': 260, '686': 261, '69': 262, '692': 263, '693': 264, '698': 265, '7': 266, '70': 267, '700': 268, '706': 269, '708': 270, '71': 271, '72': 272, '73': 273, '730': 274, '74': 275, '749': 276, '75': 277, '750': 278, '754': 279, '756': 280, '757': 281, '76': 282, '765': 283, '77': 284, '777': 285, '778': 286, '779': 287, '78': 288, '785': 289, '79': 290, '8': 291, '80': 292, '800': 293, '805': 294, '8067': 295, '809': 296, '81': 297, '811': 298, '82': 299, '820': 300, '832': 301, '849': 302, '85': 303, '86': 304, '87': 305, '88': 306, '89': 307, '9': 308, '90': 309, '900': 310, '902': 311, '906': 312, '91': 313, '910': 314, '911': 315, '919': 316, '92': 317, '93': 318, '94': 319, '940': 320, '95': 321, '951': 322, '955': 323, '96': 324, '966': 325, '968': 326, '97': 327, '978': 328, '99': 329, '999': 330, ':': 331, ';': 332, '<END>': 333, '<START>': 334, '>': 335, '>,': 336, '>.': 337, '?\"': 338, 'a': 339, 'ab': 340, 'ability': 341, 'able': 342, 'abolished': 343, 'about': 344, 'above': 345, 'abroad': 346, 'absorbed': 347, 'accept': 348, 'accessible': 349, 'accident': 350, 'according': 351, 'accused': 352, 'achieve': 353, 'achieved': 354, 'acknowledged': 355, 'acm': 356, 'acquire': 357, 'acquired': 358, 'acquiring': 359, 'acquisition': 360, 'acquisitions': 361, 'acquistions': 362, 'acre': 363, 'acres': 364, 'across': 365, 'act': 366, 'action': 367, 'activities': 368, 'actual': 369, 'add': 370, 'added': 371, 'adding': 372, 'addition': 373, 'additional': 374, 'address': 375, 'adelaide': 376, 'adh': 377, 'adjacent': 378, 'admiralty': 379, 'adopt': 380, 'advance': 381, 'advanced': 382, 'affair': 383, 'affect': 384, 'affected': 385, 'africa': 386, 'african': 387, 'after': 388, 'ag': 389, 'again': 390, 'against': 391, 'agencies': 392, 'agency': 393, 'aggregate': 394, 'ago': 395, 'agreed': 396, 'agreement': 397, 'agriculture': 398, 'ahead': 399, 'aimed': 400, 'aiming': 401, 'aims': 402, 'alan': 403, 'alaska': 404, 'all': 405, 'alleged': 406, 'alligator': 407, 'allow': 408, 'allowable': 409, 'allowed': 410, 'alluvial': 411, 'almost': 412, 'along': 413, 'already': 414, 'also': 415, 'altered': 416, 'alternative': 417, 'although': 418, 'aluminum': 419, 'amapa': 420, 'amax': 421, 'amenable': 422, 'america': 423, 'american': 424, 'amid': 425, 'among': 426, 'amore': 427, 'amount': 428, 'amounts': 429, 'amselco': 430, 'amx': 431, 'an': 432, 'analyst': 433, 'analysts': 434, 'and': 435, 'andrew': 436, 'angl': 437, 'anglo': 438, 'animals': 439, 'ann': 440, 'anniversary': 441, 'announced': 442, 'announcement': 443, 'announces': 444, 'annual': 445, 'another': 446, 'anti': 447, 'anticipated': 448, 'anticipates': 449, 'anticipation': 450, 'antiquated': 451, 'any': 452, 'apartheid': 453, 'apiece': 454, 'apparent': 455, 'appears': 456, 'apply': 457, 'approach': 458, 'approached': 459, 'appropriate': 460, 'approval': 461, 'approvals': 462, 'approve': 463, 'approved': 464, 'approves': 465, 'approximate': 466, 'approximately': 467, 'april': 468, 'arabia': 469, 'arabian': 470, 'are': 471, 'area': 472, 'areas': 473, 'ariz': 474, 'arizona': 475, 'arms': 476, 'around': 477, 'arrangement': 478, 'arrangements': 479, 'arrest': 480, 'arrested': 481, 'articles': 482, 'as': 483, 'asa': 484, 'asamera': 485, 'asc': 486, 'ascertain': 487, 'asia': 488, 'asked': 489, 'asm': 490, 'assay': 491, 'assayed': 492, 'assaying': 493, 'assays': 494, 'assets': 495, 'associated': 496, 'association': 497, 'assurances': 498, 'astro': 499, 'at': 500, 'attached': 501, 'attempt': 502, 'attempted': 503, 'attend': 504, 'attended': 505, 'attending': 506, 'attention': 507, 'attorney': 508, 'attributed': 509, 'august': 510, 'australia': 511, 'australian': 512, 'authority': 513, 'autumn': 514, 'available': 515, 'average': 516, 'averaged': 517, 'averages': 518, 'averaging': 519, 'away': 520, 'b': 521, 'bachem': 522, 'back': 523, 'bags': 524, 'balance': 525, 'baldwin': 526, 'banda': 527, 'bank': 528, 'bankers': 529, 'bankrupt': 530, 'bankruptcy': 531, 'banks': 532, 'banque': 533, 'baord': 534, 'barney': 535, 'barrett': 536, 'barrick': 537, 'barring': 538, 'bars': 539, 'base': 540, 'based': 541, 'basic': 542, 'basis': 543, 'basket': 544, 'bay': 545, 'bayonet': 546, 'be': 547, 'bearing': 548, 'because': 549, 'becoming': 550, 'been': 551, 'before': 552, 'began': 553, 'begin': 554, 'begun': 555, 'behind': 556, 'being': 557, 'belgian': 558, 'belgium': 559, 'believe': 560, 'believed': 561, 'believes': 562, 'bell': 563, 'bellies': 564, 'below': 565, 'beneath': 566, 'benefiting': 567, 'benefits': 568, 'best': 569, 'better': 570, 'between': 571, 'bh': 572, 'bhp': 573, 'bhpgm': 574, 'bid': 575, 'big': 576, 'biggest': 577, 'bill': 578, 'billion': 579, 'bills': 580, 'bioleaching': 581, 'black': 582, 'bloodstained': 583, 'board': 584, 'boddington': 585, 'body': 586, 'bois': 587, 'boksburg': 588, 'boliden': 589, 'bond': 590, 'bonds': 591, 'boost': 592, 'boosted': 593, 'boosts': 594, 'border': 595, 'borrower': 596, 'bossa': 597, 'boston': 598, 'both': 599, 'bottle': 600, 'bottom': 601, 'bought': 602, 'boundary': 603, 'bourse': 604, 'bp': 605, 'branch': 606, 'brazil': 607, 'break': 608, 'breaking': 609, 'breaks': 610, 'breakthrough': 611, 'breakwater': 612, 'bring': 613, 'brings': 614, 'britain': 615, 'britannia': 616, 'british': 617, 'brkn': 618, 'broad': 619, 'broken': 620, 'brokers': 621, 'brothers': 622, 'brown': 623, 'browns': 624, 'budget': 625, 'build': 626, 'built': 627, 'bulk': 628, 'bullion': 629, 'bullish': 630, 'bulolo': 631, 'bundey': 632, 'buoyant': 633, 'burdensome': 634, 'bureau': 635, 'burro': 636, 'business': 637, 'businessmen': 638, 'busy': 639, 'but': 640, 'buy': 641, 'buyer': 642, 'buyers': 643, 'buying': 644, 'buys': 645, 'bwrlf': 646, 'by': 647, 'cabinet': 648, 'cain': 649, 'calculated': 650, 'calculation': 651, 'calculations': 652, 'calif': 653, 'california': 654, 'call': 655, 'called': 656, 'calls': 657, 'cambior': 658, 'came': 659, 'camp': 660, 'campbell': 661, 'can': 662, 'canada': 663, 'canadian': 664, 'canamax': 665, 'cannon': 666, 'canty': 667, 'capable': 668, 'capacity': 669, 'cape': 670, 'capital': 671, 'carat': 672, 'carbon': 673, 'carbonate': 674, 'carlin': 675, 'carolin': 676, 'carolina': 677, 'carried': 678, 'carries': 679, 'carry': 680, 'carrying': 681, 'case': 682, 'cases': 683, 'cash': 684, 'catalytic': 685, 'catch': 686, 'cattle': 687, 'cause': 688, 'caused': 689, 'causing': 690, 'caution': 691, 'cautiously': 692, 'cbt': 693, 'cch': 694, 'ccimf': 695, 'cds': 696, 'ceased': 697, 'celebrate': 698, 'cenepa': 699, 'cent': 700, 'centers': 701, 'central': 702, 'cents': 703, 'chairman': 704, 'chamber': 705, 'chance': 706, 'change': 707, 'changed': 708, 'character': 709, 'characterised': 710, 'characteristics': 711, 'charge': 712, 'charges': 713, 'chasing': 714, 'cheap': 715, 'cheaper': 716, 'check': 717, 'checked': 718, 'chemical': 719, 'chester': 720, 'chibougamau': 721, 'chibougamu': 722, 'chicago': 723, 'chief': 724, 'china': 725, 'chromite': 726, 'chronowitz': 727, 'cie': 728, 'citibank': 729, 'citicorp': 730, 'citizens': 731, 'city': 732, 'claimed': 733, 'claims': 734, 'clear': 735, 'clearing': 736, 'clients': 737, 'climate': 738, 'clive': 739, 'close': 740, 'closed': 741, 'closely': 742, 'closes': 743, 'cmp': 744, 'co': 745, 'coal': 746, 'coast': 747, 'cohen': 748, 'coin': 749, 'coins': 750, 'collaborated': 751, 'colleagues': 752, 'collected': 753, 'collectors': 754, 'colliery': 755, 'columbia': 756, 'combined': 757, 'come': 758, 'comex': 759, 'commemorate': 760, 'commemorative': 761, 'comment': 762, 'commercial': 763, 'commerzbank': 764, 'commission': 765, 'commissioned': 766, 'commissions': 767, 'commitment': 768, 'commodities': 769, 'commodity': 770, 'community': 771, 'companies': 772, 'company': 773, 'comparatively': 774, 'compared': 775, 'compares': 776, 'comparisons': 777, 'compete': 778, 'competition': 779, 'competitive': 780, 'complete': 781, 'completed': 782, 'completes': 783, 'completion': 784, 'complex': 785, 'comprise': 786, 'comprised': 787, 'concentrate': 788, 'concentration': 789, 'concern': 790, 'concerned': 791, 'concerns': 792, 'concession': 793, 'conclusions': 794, 'concrete': 795, 'conditional': 796, 'conditionally': 797, 'conditions': 798, 'conducted': 799, 'conference': 800, 'confidence': 801, 'confirmation': 802, 'confirmed': 803, 'confusion': 804, 'conger': 805, 'congress': 806, 'conservatively': 807, 'consider': 808, 'considerable': 809, 'considering': 810, 'consist': 811, 'consisting': 812, 'consists': 813, 'consolidated': 814, 'consolidation': 815, 'constant': 816, 'construct': 817, 'construction': 818, 'consumer': 819, 'contain': 820, 'contained': 821, 'containing': 822, 'contains': 823, 'content': 824, 'contiguous': 825, 'continuation': 826, 'continue': 827, 'continued': 828, 'continuing': 829, 'continuous': 830, 'continuously': 831, 'contract': 832, 'contracts': 833, 'contribute': 834, 'contributions': 835, 'control': 836, 'controlled': 837, 'controls': 838, 'contruction': 839, 'conventional': 840, 'cooperation': 841, 'copies': 842, 'copper': 843, 'cornucopia': 844, 'coronation': 845, 'corp': 846, 'correct': 847, 'corrected': 848, 'correction': 849, 'corrects': 850, 'corresponding': 851, 'cost': 852, 'costs': 853, 'cotton': 854, 'could': 855, 'council': 856, 'countries': 857, 'country': 858, 'county': 859, 'coupon': 860, 'court': 861, 'cove': 862, 'covered': 863, 'covering': 864, 'covers': 865, 'create': 866, 'created': 867, 'creation': 868, 'credit': 869, 'creditors': 870, 'creek': 871, 'crews': 872, 'crk': 873, 'crlnf': 874, 'crowd': 875, 'crown': 876, 'crude': 877, 'csx': 878, 'cts': 879, 'cubic': 880, 'culpable': 881, 'cure': 882, 'currencies': 883, 'currency': 884, 'current': 885, 'currently': 886, 'custer': 887, 'cut': 888, 'cyanidation': 889, 'd': 890, 'daily': 891, 'dakota': 892, 'dampen': 893, 'damper': 894, 'date': 895, 'day': 896, 'days': 897, 'de': 898, 'deal': 899, 'dealers': 900, 'death': 901, 'debt': 902, 'debts': 903, 'dec': 904, 'decade': 905, 'december': 906, 'decision': 907, 'declared': 908, 'decline': 909, 'declined': 910, 'decreased': 911, 'deep': 912, 'deficit': 913, 'deficits': 914, 'defined': 915, 'defines': 916, 'defrauding': 917, 'deka': 918, 'delivered': 919, 'deliveries': 920, 'delivery': 921, 'demand': 922, 'demanded': 923, 'democratic': 924, 'denominated': 925, 'denominations': 926, 'department': 927, 'depend': 928, 'deposit': 929, 'deposits': 930, 'depth': 931, 'described': 932, 'designate': 933, 'designed': 934, 'despite': 935, 'details': 936, 'detected': 937, 'determine': 938, 'develop': 939, 'developed': 940, 'development': 941, 'developments': 942, 'devised': 943, 'dhahab': 944, 'diamond': 945, 'did': 946, 'died': 947, 'different': 948, 'difficult': 949, 'dillution': 950, 'diplomats': 951, 'direct': 952, 'direction': 953, 'director': 954, 'disagreed': 955, 'disaster': 956, 'disclose': 957, 'discovered': 958, 'discovery': 959, 'discussion': 960, 'disruption': 961, 'disruptions': 962, 'dissatisfaction': 963, 'distance': 964, 'distorted': 965, 'district': 966, 'diversity': 967, 'division': 968, 'dlr': 969, 'dlrs': 970, 'dm': 971, 'do': 972, 'documentation': 973, 'does': 974, 'dollar': 975, 'dollars': 976, 'dome': 977, 'domestic': 978, 'dominated': 979, 'dominick': 980, 'dominion': 981, 'don': 982, 'donalda': 983, 'done': 984, 'donna': 985, 'double': 986, 'dowa': 987, 'down': 988, 'downdip': 989, 'downed': 990, 'downside': 991, 'doyon': 992, 'drawing': 993, 'drawn': 994, 'dredge': 995, 'dredging': 996, 'dried': 997, 'drift': 998, 'drifting': 999, 'drill': 1000, 'drilled': 1001, 'drillhole': 1002, 'drilling': 1003, 'drop': 1004, 'dropping': 1005, 'due': 1006, 'during': 1007, 'each': 1008, 'eagle': 1009, 'earlier': 1010, 'early': 1011, 'earn': 1012, 'earned': 1013, 'earnings': 1014, 'easier': 1015, 'east': 1016, 'eastern': 1017, 'eastward': 1018, 'ec': 1019, 'echo': 1020, 'eco': 1021, 'economic': 1022, 'economically': 1023, 'economies': 1024, 'economy': 1025, 'ecu': 1026, 'ecuadorean': 1027, 'ecus': 1028, 'effect': 1029, 'effective': 1030, 'efforts': 1031, 'eight': 1032, 'either': 1033, 'elaborate': 1034, 'elders': 1035, 'eliminated': 1036, 'elimination': 1037, 'else': 1038, 'elsewhere': 1039, 'eluvial': 1040, 'ely': 1041, 'emerged': 1042, 'emergency': 1043, 'emerges': 1044, 'emerging': 1045, 'emperor': 1046, 'emphasized': 1047, 'employees': 1048, 'enable': 1049, 'encountered': 1050, 'encourage': 1051, 'encouraged': 1052, 'encouraging': 1053, 'end': 1054, 'ending': 1055, 'endorse': 1056, 'ends': 1057, 'enhance': 1058, 'enough': 1059, 'enquiries': 1060, 'enriched': 1061, 'ensure': 1062, 'entering': 1063, 'entire': 1064, 'entitled': 1065, 'entitling': 1066, 'environmental': 1067, 'epithermal': 1068, 'equipment': 1069, 'equity': 1070, 'equivalent': 1071, 'erickson': 1072, 'escalated': 1073, 'escape': 1074, 'escudo': 1075, 'especially': 1076, 'establish': 1077, 'established': 1078, 'estimate': 1079, 'estimated': 1080, 'estimates': 1081, 'estimating': 1082, 'europe': 1083, 'european': 1084, 'evaluation': 1085, 'even': 1086, 'ever': 1087, 'every': 1088, 'everything': 1089, 'evident': 1090, 'exaias': 1091, 'examine': 1092, 'exceed': 1093, 'exceeding': 1094, 'except': 1095, 'exceptional': 1096, 'excess': 1097, 'exchange': 1098, 'exchanges': 1099, 'exciting': 1100, 'excluded': 1101, 'excluding': 1102, 'executive': 1103, 'executives': 1104, 'exercisable': 1105, 'exercise': 1106, 'exercised': 1107, 'exhausted': 1108, 'exist': 1109, 'existing': 1110, 'expand': 1111, 'expanding': 1112, 'expansion': 1113, 'expect': 1114, 'expected': 1115, 'expects': 1116, 'expenditure': 1117, 'expenditures': 1118, 'exploit': 1119, 'exploited': 1120, 'exploration': 1121, 'explorations': 1122, 'explorer': 1123, 'explosion': 1124, 'explosives': 1125, 'export': 1126, 'exporting': 1127, 'exports': 1128, 'extend': 1129, 'extended': 1130, 'extending': 1131, 'extension': 1132, 'extensive': 1133, 'extent': 1134, 'extract': 1135, 'extracted': 1136, 'extracting': 1137, 'extraction': 1138, 'eyskens': 1139, 'face': 1140, 'facilities': 1141, 'facility': 1142, 'facing': 1143, 'fact': 1144, 'factor': 1145, 'factors': 1146, 'failed': 1147, 'failure': 1148, 'fairbanks': 1149, 'fairly': 1150, 'falconbridge': 1151, 'fall': 1152, 'falling': 1153, 'falls': 1154, 'families': 1155, 'far': 1156, 'farmers': 1157, 'farther': 1158, 'faster': 1159, 'favorable': 1160, 'fears': 1161, 'feasability': 1162, 'feasibility': 1163, 'february': 1164, 'federal': 1165, 'feels': 1166, 'fees': 1167, 'feet': 1168, 'fell': 1169, 'felt': 1170, 'few': 1171, 'field': 1172, 'figure': 1173, 'figures': 1174, 'filmed': 1175, 'final': 1176, 'finalization': 1177, 'finance': 1178, 'financial': 1179, 'financials': 1180, 'financing': 1181, 'find': 1182, 'finds': 1183, 'fine': 1184, 'fined': 1185, 'fire': 1186, 'firm': 1187, 'firmer': 1188, 'firming': 1189, 'firmness': 1190, 'firms': 1191, 'first': 1192, 'fish': 1193, 'fits': 1194, 'five': 1195, 'fix': 1196, 'fixed': 1197, 'fixing': 1198, 'float': 1199, 'floated': 1200, 'flotation': 1201, 'flow': 1202, 'fluctuate': 1203, 'fluctuations': 1204, 'flurry': 1205, 'followed': 1206, 'following': 1207, 'food': 1208, 'foot': 1209, 'for': 1210, 'force': 1211, 'forecast': 1212, 'foreign': 1213, 'form': 1214, 'former': 1215, 'forward': 1216, 'found': 1217, 'foundation': 1218, 'founded': 1219, 'founding': 1220, 'four': 1221, 'fraction': 1222, 'franc': 1223, 'franco': 1224, 'francs': 1225, 'fraud': 1226, 'free': 1227, 'friday': 1228, 'from': 1229, 'front': 1230, 'frozen': 1231, 'fscn': 1232, 'ft': 1233, 'full': 1234, 'fully': 1235, 'fumes': 1236, 'fund': 1237, 'funded': 1238, 'funds': 1239, 'funeral': 1240, 'further': 1241, 'future': 1242, 'futures': 1243, 'gain': 1244, 'gained': 1245, 'gains': 1246, 'galactic': 1247, 'galcf': 1248, 'gallium': 1249, 'game': 1250, 'gap': 1251, 'garcia': 1252, 'gas': 1253, 'gave': 1254, 'gbylf': 1255, 'gc': 1256, 'geduld': 1257, 'general': 1258, 'generated': 1259, 'generating': 1260, 'genm': 1261, 'geodome': 1262, 'geological': 1263, 'geologists': 1264, 'german': 1265, 'germanium': 1266, 'germany': 1267, 'get': 1268, 'gets': 1269, 'ggg': 1270, 'ghana': 1271, 'giant': 1272, 'girozentrale': 1273, 'give': 1274, 'given': 1275, 'go': 1276, 'goal': 1277, 'gobain': 1278, 'goedf': 1279, 'going': 1280, 'gold': 1281, 'golden': 1282, 'goldfield': 1283, 'goldfields': 1284, 'goldman': 1285, 'goldmine': 1286, 'golds': 1287, 'goldstrike': 1288, 'gonaives': 1289, 'gone': 1290, 'good': 1291, 'goodall': 1292, 'goods': 1293, 'gooseberry': 1294, 'goran': 1295, 'gordex': 1296, 'gordon': 1297, 'gough': 1298, 'government': 1299, 'gra': 1300, 'grace': 1301, 'grade': 1302, 'graded': 1303, 'grades': 1304, 'grading': 1305, 'grain': 1306, 'grains': 1307, 'gram': 1308, 'grammes': 1309, 'grams': 1310, 'grand': 1311, 'granted': 1312, 'gravel': 1313, 'great': 1314, 'greater': 1315, 'greens': 1316, 'grew': 1317, 'grootvlei': 1318, 'gross': 1319, 'group': 1320, 'growing': 1321, 'grown': 1322, 'growth': 1323, 'guaranteed': 1324, 'guaranty': 1325, 'guinea': 1326, 'gunnar': 1327, 'gympie': 1328, 'h': 1329, 'had': 1330, 'haiti': 1331, 'haitian': 1332, 'half': 1333, 'hallmarked': 1334, 'halt': 1335, 'hamburg': 1336, 'hanging': 1337, 'happening': 1338, 'hardrock': 1339, 'harris': 1340, 'harry': 1341, 'has': 1342, 'have': 1343, 'haven': 1344, 'having': 1345, 'he': 1346, 'heap': 1347, 'heard': 1348, 'heavy': 1349, 'hecla': 1350, 'hedge': 1351, 'heilongjiang': 1352, 'held': 1353, 'helena': 1354, 'help': 1355, 'hemlo': 1356, 'here': 1357, 'hermann': 1358, 'high': 1359, 'higher': 1360, 'highest': 1361, 'highlighted': 1362, 'highly': 1363, 'hill': 1364, 'hirohito': 1365, 'hiroshi': 1366, 'his': 1367, 'hl': 1368, 'hm': 1369, 'hofer': 1370, 'hog': 1371, 'hogs': 1372, 'hold': 1373, 'holder': 1374, 'holders': 1375, 'holding': 1376, 'holdings': 1377, 'holds': 1378, 'hole': 1379, 'holes': 1380, 'home': 1381, 'homeland': 1382, 'homestake': 1383, 'homicide': 1384, 'hong': 1385, 'hope': 1386, 'hopes': 1387, 'hostages': 1388, 'hostels': 1389, 'hour': 1390, 'hourly': 1391, 'hours': 1392, 'house': 1393, 'houses': 1394, 'housewives': 1395, 'housing': 1396, 'houston': 1397, 'how': 1398, 'howard': 1399, 'however': 1400, 'hundreds': 1401, 'i': 1402, 'idaho': 1403, 'idea': 1404, 'ideas': 1405, 'identified': 1406, 'if': 1407, 'ignasio': 1408, 'ii': 1409, 'illinois': 1410, 'immediate': 1411, 'immediately': 1412, 'impact': 1413, 'implications': 1414, 'implicit': 1415, 'important': 1416, 'imported': 1417, 'importer': 1418, 'imports': 1419, 'impose': 1420, 'imposed': 1421, 'imposes': 1422, 'imposing': 1423, 'imposition': 1424, 'improve': 1425, 'improved': 1426, 'improvement': 1427, 'improving': 1428, 'in': 1429, 'inc': 1430, 'include': 1431, 'included': 1432, 'including': 1433, 'increase': 1434, 'increased': 1435, 'increases': 1436, 'increasing': 1437, 'incredible': 1438, 'incx': 1439, 'index': 1440, 'indicate': 1441, 'indicated': 1442, 'indicates': 1443, 'indium': 1444, 'indosuez': 1445, 'industrial': 1446, 'industry': 1447, 'inexact': 1448, 'inflation': 1449, 'inflationary': 1450, 'influence': 1451, 'influences': 1452, 'infrastructure': 1453, 'ing': 1454, 'initial': 1455, 'injured': 1456, 'inlet': 1457, 'inspiration': 1458, 'instability': 1459, 'install': 1460, 'institutions': 1461, 'insurance': 1462, 'integration': 1463, 'intended': 1464, 'intented': 1465, 'interest': 1466, 'interests': 1467, 'intergold': 1468, 'interior': 1469, 'internally': 1470, 'international': 1471, 'internationalising': 1472, 'intersected': 1473, 'intersection': 1474, 'intersections': 1475, 'intersects': 1476, 'interval': 1477, 'intervals': 1478, 'intervention': 1479, 'interview': 1480, 'into': 1481, 'introduction': 1482, 'invest': 1483, 'investigation': 1484, 'investing': 1485, 'investment': 1486, 'investments': 1487, 'investor': 1488, 'investors': 1489, 'involved': 1490, 'involving': 1491, 'inyo': 1492, 'iran': 1493, 'iranian': 1494, 'irc': 1495, 'is': 1496, 'ishikawa': 1497, 'island': 1498, 'issue': 1499, 'issued': 1500, 'issuer': 1501, 'issues': 1502, 'issuing': 1503, 'it': 1504, 'items': 1505, 'its': 1506, 'itself': 1507, 'ivanhoe': 1508, 'j': 1509, 'jailed': 1510, 'jan': 1511, 'january': 1512, 'japan': 1513, 'japanese': 1514, 'jewellery': 1515, 'jobs': 1516, 'joe': 1517, 'joensson': 1518, 'johannesburg': 1519, 'john': 1520, 'johnny': 1521, 'joint': 1522, 'jointly': 1523, 'jones': 1524, 'journalists': 1525, 'july': 1526, 'jump': 1527, 'jumped': 1528, 'june': 1529, 'jungle': 1530, 'just': 1531, 'k': 1532, 'kazuo': 1533, 'ketza': 1534, 'key': 1535, 'killed': 1536, 'kilo': 1537, 'kilometer': 1538, 'kilometers': 1539, 'kilos': 1540, 'kina': 1541, 'kindled': 1542, 'kingdom': 1543, 'kingman': 1544, 'kingsley': 1545, 'kinross': 1546, 'kirkland': 1547, 'kjell': 1548, 'km': 1549, 'kms': 1550, 'knobbs': 1551, 'knowhow': 1552, 'known': 1553, 'kobe': 1554, 'kong': 1555, 'korea': 1556, 'korean': 1557, 'krugerrand': 1558, 'labour': 1559, 'lac': 1560, 'lacana': 1561, 'lack': 1562, 'lag': 1563, 'lake': 1564, 'land': 1565, 'landesbank': 1566, 'languished': 1567, 'large': 1568, 'larger': 1569, 'largest': 1570, 'last': 1571, 'late': 1572, 'later': 1573, 'latest': 1574, 'latin': 1575, 'launched': 1576, 'launches': 1577, 'launching': 1578, 'law': 1579, 'lawyers': 1580, 'lbs': 1581, 'leach': 1582, 'leaching': 1583, 'lead': 1584, 'leader': 1585, 'leaders': 1586, 'leaf': 1587, 'leased': 1588, 'least': 1589, 'led': 1590, 'legal': 1591, 'legislation': 1592, 'lehman': 1593, 'length': 1594, 'leonora': 1595, 'lesley': 1596, 'less': 1597, 'lesser': 1598, 'let': 1599, 'level': 1600, 'levels': 1601, 'leverage': 1602, 'leveraged': 1603, 'levied': 1604, 'levon': 1605, 'li': 1606, 'liabilities': 1607, 'license': 1608, 'lies': 1609, 'life': 1610, 'lifting': 1611, 'like': 1612, 'likely': 1613, 'limit': 1614, 'limited': 1615, 'limits': 1616, 'lines': 1617, 'linked': 1618, 'links': 1619, 'list': 1620, 'listing': 1621, 'lists': 1622, 'literature': 1623, 'little': 1624, 'live': 1625, 'lived': 1626, 'lively': 1627, 'livestock': 1628, 'local': 1629, 'located': 1630, 'locates': 1631, 'location': 1632, 'locations': 1633, 'locked': 1634, 'london': 1635, 'long': 1636, 'longer': 1637, 'look': 1638, 'looking': 1639, 'looks': 1640, 'losing': 1641, 'loss': 1642, 'losses': 1643, 'lot': 1644, 'lots': 1645, 'low': 1646, 'lower': 1647, 'lowest': 1648, 'lows': 1649, 'lt': 1650, 'ltd': 1651, 'luxembourg': 1652, 'lvnvf': 1653, 'lynch': 1654, 'lynn': 1655, 'm': 1656, 'made': 1657, 'mahd': 1658, 'main': 1659, 'mainly': 1660, 'maison': 1661, 'major': 1662, 'majority': 1663, 'make': 1664, 'makes': 1665, 'making': 1666, 'management': 1667, 'manager': 1668, 'managers': 1669, 'mananger': 1670, 'mandela': 1671, 'manitoba': 1672, 'mann': 1673, 'manner': 1674, 'manufactured': 1675, 'many': 1676, 'maple': 1677, 'march': 1678, 'margin': 1679, 'margins': 1680, 'mark': 1681, 'marked': 1682, 'market': 1683, 'marketed': 1684, 'markets': 1685, 'marks': 1686, 'martin': 1687, 'marty': 1688, 'mascot': 1689, 'material': 1690, 'mats': 1691, 'maturities': 1692, 'maturity': 1693, 'may': 1694, 'maybe': 1695, 'mccoy': 1696, 'mclaughlin': 1697, 'mcneill': 1698, 'me': 1699, 'means': 1700, 'meant': 1701, 'measure': 1702, 'meeting': 1703, 'meets': 1704, 'members': 1705, 'membership': 1706, 'men': 1707, 'mercantile': 1708, 'merger': 1709, 'merrill': 1710, 'meston': 1711, 'metal': 1712, 'metallurgical': 1713, 'metals': 1714, 'meters': 1715, 'methane': 1716, 'method': 1717, 'methods': 1718, 'metres': 1719, 'metric': 1720, 'mgdvf': 1721, 'michael': 1722, 'microscopic': 1723, 'mid': 1724, 'middle': 1725, 'might': 1726, 'migrant': 1727, 'mild': 1728, 'mile': 1729, 'miles': 1730, 'mill': 1731, 'milled': 1732, 'milling': 1733, 'mine': 1734, 'mineable': 1735, 'mined': 1736, 'miner': 1737, 'mineral': 1738, 'mineralization': 1739, 'mineralized': 1740, 'minerals': 1741, 'miners': 1742, 'mines': 1743, 'mineworkers': 1744, 'minging': 1745, 'mining': 1746, 'minister': 1747, 'ministers': 1748, 'ministry': 1749, 'mint': 1750, 'minted': 1751, 'minting': 1752, 'misima': 1753, 'mistake': 1754, 'miune': 1755, 'mln': 1756, 'model': 1757, 'models': 1758, 'moderately': 1759, 'modern': 1760, 'modest': 1761, 'monday': 1762, 'monetary': 1763, 'money': 1764, 'mont': 1765, 'montagu': 1766, 'montana': 1767, 'month': 1768, 'monthly': 1769, 'months': 1770, 'more': 1771, 'moresby': 1772, 'morgan': 1773, 'morne': 1774, 'morning': 1775, 'morobe': 1776, 'most': 1777, 'mountain': 1778, 'mounting': 1779, 'move': 1780, 'moved': 1781, 'movements': 1782, 'moves': 1783, 'mt': 1784, 'much': 1785, 'mulls': 1786, 'murchison': 1787, 'murgold': 1788, 'muskeg': 1789, 'must': 1790, 'my': 1791, 'myra': 1792, 'na': 1793, 'nagano': 1794, 'name': 1795, 'named': 1796, 'narly': 1797, 'narrow': 1798, 'narrowed': 1799, 'nation': 1800, 'national': 1801, 'nationalist': 1802, 'nations': 1803, 'nationwide': 1804, 'natural': 1805, 'nbh': 1806, 'nbha': 1807, 'near': 1808, 'nearby': 1809, 'nearing': 1810, 'nearly': 1811, 'necessary': 1812, 'need': 1813, 'needed': 1814, 'negotiations': 1815, 'neill': 1816, 'neither': 1817, 'nelson': 1818, 'nem': 1819, 'ner': 1820, 'nerco': 1821, 'net': 1822, 'netherlands': 1823, 'nev': 1824, 'nevada': 1825, 'never': 1826, 'new': 1827, 'newfoundland': 1828, 'newly': 1829, 'newmont': 1830, 'news': 1831, 'newsletter': 1832, 'next': 1833, 'ngc': 1834, 'ngx': 1835, 'nicel': 1836, 'nickel': 1837, 'night': 1838, 'nilsson': 1839, 'nine': 1840, 'nisker': 1841, 'no': 1842, 'noranda': 1843, 'norgold': 1844, 'normal': 1845, 'north': 1846, 'northeast': 1847, 'northern': 1848, 'northgate': 1849, 'northwest': 1850, 'northwestern': 1851, 'not': 1852, 'note': 1853, 'noted': 1854, 'notes': 1855, 'nothing': 1856, 'noticeable': 1857, 'noting': 1858, 'november': 1859, 'novo': 1860, 'now': 1861, 'num': 1862, 'number': 1863, 'nurukawa': 1864, 'o': 1865, 'obliged': 1866, 'obtain': 1867, 'occurred': 1868, 'ocean': 1869, 'oct': 1870, 'october': 1871, 'of': 1872, 'off': 1873, 'offer': 1874, 'offered': 1875, 'office': 1876, 'offices': 1877, 'official': 1878, 'officially': 1879, 'officials': 1880, 'offset': 1881, 'offshoot': 1882, 'often': 1883, 'oil': 1884, 'ok': 1885, 'old': 1886, 'on': 1887, 'once': 1888, 'one': 1889, 'ones': 1890, 'only': 1891, 'ontario': 1892, 'opec': 1893, 'open': 1894, 'opened': 1895, 'opening': 1896, 'opens': 1897, 'operate': 1898, 'operated': 1899, 'operates': 1900, 'operating': 1901, 'operation': 1902, 'operations': 1903, 'operator': 1904, 'opinion': 1905, 'optimistic': 1906, 'option': 1907, 'options': 1908, 'or': 1909, 'ora': 1910, 'order': 1911, 'ordered': 1912, 'orderly': 1913, 'ore': 1914, 'ores': 1915, 'organisation': 1916, 'organized': 1917, 'original': 1918, 'origins': 1919, 'osaka': 1920, 'other': 1921, 'otherwise': 1922, 'ounce': 1923, 'ounces': 1924, 'our': 1925, 'out': 1926, 'outlook': 1927, 'outpace': 1928, 'output': 1929, 'outside': 1930, 'over': 1931, 'overall': 1932, 'overburden': 1933, 'owed': 1934, 'own': 1935, 'owned': 1936, 'owner': 1937, 'owners': 1938, 'ownership': 1939, 'owns': 1940, 'oxide': 1941, 'oz': 1942, 'pachapidiana': 1943, 'pacific': 1944, 'pacificorp': 1945, 'paid': 1946, 'palladium': 1947, 'panic': 1948, 'paper': 1949, 'papua': 1950, 'par': 1951, 'parallel': 1952, 'parliament': 1953, 'part': 1954, 'participant': 1955, 'participants': 1956, 'particularly': 1957, 'partly': 1958, 'partner': 1959, 'partners': 1960, 'partnership': 1961, 'past': 1962, 'patricia': 1963, 'paul': 1964, 'paulson': 1965, 'pay': 1966, 'payback': 1967, 'payment': 1968, 'pct': 1969, 'peak': 1970, 'peaks': 1971, 'pegasus': 1972, 'pending': 1973, 'pension': 1974, 'pensioners': 1975, 'people': 1976, 'per': 1977, 'percentage': 1978, 'performance': 1979, 'performed': 1980, 'performing': 1981, 'period': 1982, 'periodic': 1983, 'periods': 1984, 'periphery': 1985, 'permits': 1986, 'personal': 1987, 'perth': 1988, 'peru': 1989, 'peseta': 1990, 'peter': 1991, 'petroleum': 1992, 'petromin': 1993, 'pgul': 1994, 'pgulf': 1995, 'phase': 1996, 'philosophy': 1997, 'physical': 1998, 'pickens': 1999, 'pillar': 2000, 'piog': 2001, 'pioneer': 2002, 'pioneered': 2003, 'pires': 2004, 'pit': 2005, 'pits': 2006, 'place': 2007, 'placed': 2008, 'placements': 2009, 'placer': 2010, 'plan': 2011, 'planned': 2012, 'plans': 2013, 'plant': 2014, 'plate': 2015, 'platinum': 2016, 'play': 2017, 'plc': 2018, 'plus': 2019, 'png': 2020, 'point': 2021, 'pointed': 2022, 'points': 2023, 'poised': 2024, 'police': 2025, 'policy': 2026, 'political': 2027, 'poona': 2028, 'pope': 2029, 'pork': 2030, 'port': 2031, 'portfolio': 2032, 'portion': 2033, 'portland': 2034, 'portuguese': 2035, 'position': 2036, 'positioned': 2037, 'positive': 2038, 'possible': 2039, 'possibly': 2040, 'post': 2041, 'posted': 2042, 'potential': 2043, 'pounds': 2044, 'ppw': 2045, 'practice': 2046, 'practise': 2047, 'pre': 2048, 'precious': 2049, 'predicted': 2050, 'predicts': 2051, 'prefeasibility': 2052, 'preliminary': 2053, 'premium': 2054, 'premiums': 2055, 'preproduction': 2056, 'presence': 2057, 'present': 2058, 'presentation': 2059, 'preserve': 2060, 'president': 2061, 'presides': 2062, 'press': 2063, 'pressure': 2064, 'pressures': 2065, 'previous': 2066, 'previously': 2067, 'price': 2068, 'priced': 2069, 'prices': 2070, 'pricing': 2071, 'principal': 2072, 'principle': 2073, 'prior': 2074, 'private': 2075, 'probable': 2076, 'probably': 2077, 'problems': 2078, 'proceed': 2079, 'proceeding': 2080, 'process': 2081, 'processed': 2082, 'processing': 2083, 'produce': 2084, 'produced': 2085, 'producer': 2086, 'producers': 2087, 'producing': 2088, 'product': 2089, 'production': 2090, 'productive': 2091, 'products': 2092, 'professional': 2093, 'profit': 2094, 'profitably': 2095, 'profits': 2096, 'program': 2097, 'progressively': 2098, 'prohibitive': 2099, 'project': 2100, 'projected': 2101, 'projection': 2102, 'promote': 2103, 'prompting': 2104, 'pronounced': 2105, 'propel': 2106, 'properties': 2107, 'property': 2108, 'proposal': 2109, 'proposed': 2110, 'proprietary': 2111, 'prosecutors': 2112, 'prospect': 2113, 'prospecting': 2114, 'prospects': 2115, 'protest': 2116, 'protesting': 2117, 'prove': 2118, 'proved': 2119, 'proven': 2120, 'provide': 2121, 'provided': 2122, 'province': 2123, 'provincial': 2124, 'pty': 2125, 'public': 2126, 'publicity': 2127, 'publish': 2128, 'purchase': 2129, 'purchased': 2130, 'purchases': 2131, 'put': 2132, 'puts': 2133, 'pyongyang': 2134, 'quality': 2135, 'quantities': 2136, 'quantity': 2137, 'quarter': 2138, 'quartz': 2139, 'quebec': 2140, 'queen': 2141, 'queensland': 2142, 'questioned': 2143, 'quick': 2144, 'quickly': 2145, 'quiet': 2146, 'quotation': 2147, 'quoted': 2148, 'r': 2149, 'raise': 2150, 'raised': 2151, 'raising': 2152, 'rallies': 2153, 'rally': 2154, 'rand': 2155, 'range': 2156, 'ranged': 2157, 'ranges': 2158, 'ranging': 2159, 'rankin': 2160, 'rapid': 2161, 'rapidly': 2162, 'rate': 2163, 'rated': 2164, 'rates': 2165, 'rather': 2166, 'ratio': 2167, 'raytheon': 2168, 're': 2169, 'reach': 2170, 'reached': 2171, 'reaching': 2172, 'reaction': 2173, 'reactions': 2174, 'reaffirmed': 2175, 'reagan': 2176, 'real': 2177, 'realistic': 2178, 'really': 2179, 'reason': 2180, 'reassert': 2181, 'recalculated': 2182, 'receipt': 2183, 'receive': 2184, 'received': 2185, 'receiving': 2186, 'recent': 2187, 'recently': 2188, 'recognition': 2189, 'recommended': 2190, 'record': 2191, 'recourse': 2192, 'recover': 2193, 'recovered': 2194, 'recoveries': 2195, 'recovery': 2196, 'red': 2197, 'reduced': 2198, 'reduction': 2199, 'refers': 2200, 'refining': 2201, 'reflate': 2202, 'refusal': 2203, 'refuse': 2204, 'refused': 2205, 'region': 2206, 'regional': 2207, 'registered': 2208, 'regulations': 2209, 'regulatory': 2210, 'rehabilitation': 2211, 'reign': 2212, 'rejection': 2213, 'related': 2214, 'relative': 2215, 'relatively': 2216, 'released': 2217, 'remained': 2218, 'remaining': 2219, 'remains': 2220, 'remarks': 2221, 'removal': 2222, 'renewed': 2223, 'renison': 2224, 'renounceable': 2225, 'repaid': 2226, 'repay': 2227, 'replaced': 2228, 'report': 2229, 'reported': 2230, 'reporters': 2231, 'reporting': 2232, 'reports': 2233, 'represent': 2234, 'representative': 2235, 'representatives': 2236, 'represented': 2237, 'represents': 2238, 'required': 2239, 'research': 2240, 'reserve': 2241, 'reserves': 2242, 'residual': 2243, 'resistance': 2244, 'resolve': 2245, 'resource': 2246, 'resources': 2247, 'respective': 2248, 'respectively': 2249, 'responds': 2250, 'responsible': 2251, 'rest': 2252, 'result': 2253, 'results': 2254, 'resumed': 2255, 'resurrect': 2256, 'retain': 2257, 'return': 2258, 'returned': 2259, 'reuter': 2260, 'reuters': 2261, 'revenues': 2262, 'reverberated': 2263, 'review': 2264, 'revised': 2265, 'rgc': 2266, 'rgfj': 2267, 'rich': 2268, 'richard': 2269, 'richest': 2270, 'richmond': 2271, 'ride': 2272, 'ridge': 2273, 'ridgeway': 2274, 'right': 2275, 'rights': 2276, 'rise': 2277, 'risen': 2278, 'rises': 2279, 'rising': 2280, 'risk': 2281, 'river': 2282, 'rivers': 2283, 'roared': 2284, 'rock': 2285, 'rocks': 2286, 'rome': 2287, 'ronald': 2288, 'ronnskar': 2289, 'rose': 2290, 'roughly': 2291, 'rouyn': 2292, 'royalty': 2293, 'rpt': 2294, 'rtn': 2295, 'run': 2296, 'rush': 2297, 'rushed': 2298, 's': 2299, 'sachs': 2300, 'safety': 2301, 'said': 2302, 'sale': 2303, 'sales': 2304, 'salomon': 2305, 'same': 2306, 'samples': 2307, 'sampling': 2308, 'samuel': 2309, 'san': 2310, 'sangsu': 2311, 'santiago': 2312, 'saskatchewan': 2313, 'satisfactory': 2314, 'saturday': 2315, 'saudi': 2316, 'saw': 2317, 'say': 2318, 'says': 2319, 'scale': 2320, 'schedule': 2321, 'scheduled': 2322, 'scheme': 2323, 'schemes': 2324, 'science': 2325, 'scientific': 2326, 'second': 2327, 'section': 2328, 'securities': 2329, 'sedren': 2330, 'see': 2331, 'seek': 2332, 'seems': 2333, 'seen': 2334, 'sees': 2335, 'seize': 2336, 'sell': 2337, 'selling': 2338, 'senior': 2339, 'sentiment': 2340, 'separate': 2341, 'september': 2342, 'series': 2343, 'set': 2344, 'sets': 2345, 'setting': 2346, 'seven': 2347, 'seventh': 2348, 'several': 2349, 'severe': 2350, 'severely': 2351, 'sex': 2352, 'shaft': 2353, 'shafts': 2354, 'shandong': 2355, 'share': 2356, 'shareholder': 2357, 'shareholders': 2358, 'shares': 2359, 'sharp': 2360, 'sharply': 2361, 'she': 2362, 'shearson': 2363, 'shift': 2364, 'shifted': 2365, 'ship': 2366, 'shoji': 2367, 'sholes': 2368, 'shore': 2369, 'short': 2370, 'should': 2371, 'shouted': 2372, 'show': 2373, 'showed': 2374, 'shown': 2375, 'shows': 2376, 'side': 2377, 'sigma': 2378, 'sign': 2379, 'signed': 2380, 'significant': 2381, 'significantly': 2382, 'silver': 2383, 'similar': 2384, 'simple': 2385, 'since': 2386, 'singapore': 2387, 'single': 2388, 'sit': 2389, 'site': 2390, 'sites': 2391, 'situation': 2392, 'six': 2393, 'sixth': 2394, 'sjg': 2395, 'skx': 2396, 'skyline': 2397, 'sleeper': 2398, 'slide': 2399, 'slightly': 2400, 'slipped': 2401, 'slow': 2402, 'slowed': 2403, 'slowing': 2404, 'small': 2405, 'smaller': 2406, 'smashing': 2407, 'smelted': 2408, 'smelter': 2409, 'smith': 2410, 'so': 2411, 'soar': 2412, 'sold': 2413, 'solid': 2414, 'some': 2415, 'someone': 2416, 'somewhere': 2417, 'son': 2418, 'soon': 2419, 'sophisticated': 2420, 'sound': 2421, 'sources': 2422, 'south': 2423, 'southeast': 2424, 'southeastern': 2425, 'southwest': 2426, 'sovereign': 2427, 'soviet': 2428, 'spanish': 2429, 'special': 2430, 'specific': 2431, 'speculation': 2432, 'speculative': 2433, 'speculators': 2434, 'spencer': 2435, 'spend': 2436, 'spending': 2437, 'spent': 2438, 'sphinx': 2439, 'spike': 2440, 'spnxf': 2441, 'spokane': 2442, 'spokesman': 2443, 'sponsored': 2444, 'spot': 2445, 'spread': 2446, 'square': 2447, 'ssmc': 2448, 'st': 2449, 'stabbed': 2450, 'stabilisation': 2451, 'stabilising': 2452, 'stage': 2453, 'staged': 2454, 'staging': 2455, 'stake': 2456, 'stakes': 2457, 'standard': 2458, 'star': 2459, 'starrex': 2460, 'start': 2461, 'started': 2462, 'starting': 2463, 'starts': 2464, 'state': 2465, 'stated': 2466, 'statement': 2467, 'states': 2468, 'statutory': 2469, 'steadily': 2470, 'stearns': 2471, 'steelworkers': 2472, 'steve': 2473, 'stg': 2474, 'stibnite': 2475, 'still': 2476, 'stimulate': 2477, 'stimulating': 2478, 'stock': 2479, 'stocks': 2480, 'stood': 2481, 'stoppage': 2482, 'strategically': 2483, 'strike': 2484, 'strikes': 2485, 'striking': 2486, 'stripping': 2487, 'strohmeyer': 2488, 'strong': 2489, 'strongly': 2490, 'struck': 2491, 'structure': 2492, 'studies': 2493, 'study': 2494, 'subject': 2495, 'submission': 2496, 'subscribe': 2497, 'subsequent': 2498, 'subsidiary': 2499, 'substantial': 2500, 'substantially': 2501, 'success': 2502, 'successful': 2503, 'such': 2504, 'suface': 2505, 'suffered': 2506, 'suffering': 2507, 'suffocated': 2508, 'suisse': 2509, 'sulfide': 2510, 'sulphide': 2511, 'summer': 2512, 'sunbeam': 2513, 'sunday': 2514, 'supplies': 2515, 'supply': 2516, 'support': 2517, 'supported': 2518, 'surface': 2519, 'surfrace': 2520, 'surplus': 2521, 'surrounding': 2522, 'survey': 2523, 'suspected': 2524, 'suspend': 2525, 'sweden': 2526, 'swedish': 2527, 'swindling': 2528, 'swiss': 2529, 'switching': 2530, 'switzerland': 2531, 'symbolic': 2532, 'syngold': 2533, 'system': 2534, 't': 2535, 'tael': 2536, 'tailings': 2537, 'take': 2538, 'taken': 2539, 'takeover': 2540, 'talking': 2541, 'talks': 2542, 'tamborapa': 2543, 'target': 2544, 'targets': 2545, 'tasmania': 2546, 'tax': 2547, 'taxes': 2548, 'teberebie': 2549, 'technical': 2550, 'technigen': 2551, 'techniques': 2552, 'technology': 2553, 'tedi': 2554, 'tedious': 2555, 'teles': 2556, 'television': 2557, 'telfer': 2558, 'temporary': 2559, 'tender': 2560, 'tenth': 2561, 'term': 2562, 'terminated': 2563, 'terms': 2564, 'territories': 2565, 'territory': 2566, 'test': 2567, 'tested': 2568, 'tests': 2569, 'than': 2570, 'that': 2571, 'the': 2572, 'their': 2573, 'them': 2574, 'themselves': 2575, 'then': 2576, 'there': 2577, 'these': 2578, 'they': 2579, 'thhe': 2580, 'thick': 2581, 'thickness': 2582, 'thin': 2583, 'think': 2584, 'third': 2585, 'thirty': 2586, 'this': 2587, 'those': 2588, 'though': 2589, 'thought': 2590, 'thousands': 2591, 'threat': 2592, 'three': 2593, 'threshold': 2594, 'through': 2595, 'throughout': 2596, 'throughput': 2597, 'thursday': 2598, 'time': 2599, 'timely': 2600, 'times': 2601, 'timmins': 2602, 'titles': 2603, 'tle': 2604, 'to': 2605, 'today': 2606, 'together': 2607, 'tokyo': 2608, 'told': 2609, 'tomaque': 2610, 'tomorrow': 2611, 'ton': 2612, 'tonnage': 2613, 'tonne': 2614, 'tonnes': 2615, 'tons': 2616, 'too': 2617, 'tools': 2618, 'top': 2619, 'toronto': 2620, 'total': 2621, 'totaled': 2622, 'totaling': 2623, 'totalled': 2624, 'town': 2625, 'township': 2626, 'toxic': 2627, 'toyota': 2628, 'trace': 2629, 'traced': 2630, 'trackless': 2631, 'trade': 2632, 'traded': 2633, 'traders': 2634, 'trades': 2635, 'trading': 2636, 'traditional': 2637, 'trans': 2638, 'transaction': 2639, 'transactions': 2640, 'transfer': 2641, 'transkei': 2642, 'treasury': 2643, 'treatable': 2644, 'treatment': 2645, 'treaty': 2646, 'tried': 2647, 'troy': 2648, 'true': 2649, 'trust': 2650, 'trying': 2651, 'tse': 2652, 'tuesday': 2653, 'tug': 2654, 'tumbled': 2655, 'tunnel': 2656, 'tunnels': 2657, 'turning': 2658, 'turnover': 2659, 'tvx': 2660, 'two': 2661, 'tyranex': 2662, 'tyranite': 2663, 'u': 2664, 'udf': 2665, 'unable': 2666, 'uncertainty': 2667, 'und': 2668, 'undeground': 2669, 'under': 2670, 'underground': 2671, 'underline': 2672, 'underlying': 2673, 'undermine': 2674, 'underscore': 2675, 'understand': 2676, 'undertake': 2677, 'undertook': 2678, 'underwriting': 2679, 'underwritten': 2680, 'undiluted': 2681, 'union': 2682, 'unit': 2683, 'united': 2684, 'unlikely': 2685, 'unlimited': 2686, 'unmatched': 2687, 'unsafe': 2688, 'unsecured': 2689, 'unstable': 2690, 'unsubordinated': 2691, 'untapped': 2692, 'until': 2693, 'unzan': 2694, 'up': 2695, 'upham': 2696, 'uranium': 2697, 'us': 2698, 'use': 2699, 'used': 2700, 'uses': 2701, 'using': 2702, 'usmx': 2703, 'usx': 2704, 'utah': 2705, 'v': 2706, 'vaal': 2707, 'val': 2708, 'valley': 2709, 'value': 2710, 'valued': 2711, 'values': 2712, 'vancouver': 2713, 'variant': 2714, 'varying': 2715, 'vehicle': 2716, 'vein': 2717, 'veins': 2718, 'venture': 2719, 'vereins': 2720, 'versus': 2721, 'vertical': 2722, 'very': 2723, 'vice': 2724, 'viceroy': 2725, 'vien': 2726, 'view': 2727, 'virtually': 2728, 'visited': 2729, 'volatile': 2730, 'volatility': 2731, 'volatily': 2732, 'volcker': 2733, 'volume': 2734, 'voted': 2735, 'vs': 2736, 'w': 2737, 'waiting': 2738, 'wales': 2739, 'wall': 2740, 'wane': 2741, 'want': 2742, 'wanted': 2743, 'war': 2744, 'warm': 2745, 'warrant': 2746, 'warranted': 2747, 'warrants': 2748, 'was': 2749, 'wash': 2750, 'water': 2751, 'waver': 2752, 'way': 2753, 'we': 2754, 'weak': 2755, 'weaker': 2756, 'weakness': 2757, 'wednesday': 2758, 'wednesdays': 2759, 'week': 2760, 'weekend': 2761, 'weeks': 2762, 'weight': 2763, 'weighted': 2764, 'welcome': 2765, 'well': 2766, 'wenatchee': 2767, 'went': 2768, 'were': 2769, 'west': 2770, 'westbank': 2771, 'westdeutsche': 2772, 'western': 2773, 'westmin': 2774, 'what': 2775, 'whatever': 2776, 'when': 2777, 'where': 2778, 'which': 2779, 'while': 2780, 'white': 2781, 'who': 2782, 'wholly': 2783, 'wide': 2784, 'width': 2785, 'will': 2786, 'william': 2787, 'winnemucca': 2788, 'witbank': 2789, 'with': 2790, 'within': 2791, 'without': 2792, 'witte': 2793, 'wmc': 2794, 'wmng': 2795, 'work': 2796, 'worker': 2797, 'workers': 2798, 'working': 2799, 'works': 2800, 'world': 2801, 'worldwide': 2802, 'worried': 2803, 'worries': 2804, 'worrying': 2805, 'worth': 2806, 'would': 2807, 'wouldn': 2808, 'x': 2809, 'yard': 2810, 'yards': 2811, 'year': 2812, 'yearly': 2813, 'years': 2814, 'yen': 2815, 'yesterday': 2816, 'yet': 2817, 'yield': 2818, 'yielded': 2819, 'yields': 2820, 'york': 2821, 'yorkton': 2822, 'you': 2823, 'yukon': 2824, 'zero': 2825, 'zinc': 2826, 'zone': 2827, 'zones': 2828, 'zurich': 2829}\n",
      "Running Truncated SVD over 2830 words...\n"
     ]
    },
    {
     "name": "stdout",
     "output_type": "stream",
     "text": [
      "Done.\n"
     ]
    },
    {
     "data": {
      "image/png": "[encoded data removed]",
      "text/plain": [
       "<Figure size 1000x500 with 1 Axes>"
      ]
     },
     "metadata": {},
     "output_type": "display_data"
    }
   ],
   "source": [
    "# -----------------------------\n",
    "# Run This Cell to Produce Your Plot\n",
    "# ------------------------------\n",
    "reuters_corpus = read_corpus()\n",
    "M_co_occurrence, word2ind_co_occurrence = compute_co_occurrence_matrix(reuters_corpus)\n",
    "M_reduced_co_occurrence = reduce_to_k_dim(M_co_occurrence, k=2)\n",
    "\n",
    "# Rescale (normalize) the rows to make them each of unit-length\n",
    "M_lengths = np.linalg.norm(M_reduced_co_occurrence, axis=1)\n",
    "M_normalized = M_reduced_co_occurrence / M_lengths[:, np.newaxis] # broadcasting\n",
    "\n",
    "words = ['value', 'gold', 'platinum', 'reserves', 'silver', 'metals', 'copper', 'belgium', 'australia', 'china', 'grammes', \"mine\"]\n",
    "\n",
    "plot_embeddings(M_normalized, word2ind_co_occurrence, words)"
   ]
  },
  {
   "cell_type": "markdown",
   "metadata": {
    "id": "RtOd40JTSSuE"
   },
   "source": [
    "**Verify that your figure matches \"question_1.5.png\" in the assignment zip. If not, use that figure to answer the next two questions.**"
   ]
  },
  {
   "cell_type": "markdown",
   "metadata": {
    "id": "ciXWGMvRSSuE"
   },
   "source": [
    "a. Find at least two groups of words that cluster together in 2-dimensional embedding space. Give an explanation for each cluster you observe."
   ]
  },
  {
   "cell_type": "markdown",
   "metadata": {
    "id": "fLU7o3HESSuF"
   },
   "source": [
    "### SOLUTION BEGIN\n",
    "Copper, Platinum and, to some extent, silver cluster. As they are metals, it makes sense to me they should cluster.\n",
    "\n",
    "Australia and Belgium cluster. As they are countries, I think they should cluster.\n",
    "### SOLUTION END\n"
   ]
  },
  {
   "cell_type": "markdown",
   "metadata": {
    "id": "3H-tyA9RSSuF"
   },
   "source": [
    "b. What doesn't cluster together that you might think should have? Describe at least two examples.\n",
    "\n"
   ]
  },
  {
   "cell_type": "markdown",
   "metadata": {
    "id": "3NG2j9J4SSuG"
   },
   "source": [
    "### SOLUTION BEGIN\n",
    "China doesn't cluster with Australia and Belgium. Also, metals, gold, mine, reserves, value, don't cluster with copper and platinum\n",
    "### SOLUTION END"
   ]
  },
  {
   "cell_type": "markdown",
   "metadata": {
    "id": "_h0OzAaRSSuI"
   },
   "source": [
    "## Part 2: Prediction-Based Word Vectors (15 points)\n",
    "\n",
    "As discussed in class, more recently prediction-based word vectors have demonstrated better performance, such as word2vec and GloVe (which also utilizes the benefit of counts). Here, we shall explore the embeddings produced by GloVe. Please revisit the class notes and lecture slides for more details on the word2vec and GloVe algorithms. If you're feeling adventurous, challenge yourself and try reading [GloVe's original paper](https://nlp.stanford.edu/pubs/glove.pdf).\n",
    "\n",
    "Then run the following cells to load the GloVe vectors into memory. **Note**: If this is your first time to run these cells, i.e. download the embedding model, it will take a couple minutes to run. If you've run these cells before, rerunning them will load the model without redownloading it, which will take about 1 to 2 minutes."
   ]
  },
  {
   "cell_type": "code",
   "execution_count": 63,
   "metadata": {
    "id": "l3kwvdksSSuI"
   },
   "outputs": [],
   "source": [
    "def load_embedding_model():\n",
    "    \"\"\" Load GloVe Vectors\n",
    "        Return:\n",
    "            wv_from_bin: All 400000 embeddings, each lengh 200\n",
    "    \"\"\"\n",
    "    import gensim.downloader as api\n",
    "    wv_from_bin = api.load(\"glove-wiki-gigaword-200\")\n",
    "    print(\"Loaded vocab size %i\" % len(list(wv_from_bin.index_to_key)))\n",
    "    return wv_from_bin"
   ]
  },
  {
   "cell_type": "code",
   "execution_count": 64,
   "metadata": {
    "id": "JCvVlSLZSSuJ",
    "scrolled": true
   },
   "outputs": [
    {
     "name": "stdout",
     "output_type": "stream",
     "text": [
      "[====----------------------------------------------] 9.3% 23.4/252.1MB downloaded"
     ]
    },
    {
     "name": "stderr",
     "output_type": "stream",
     "text": [
      "IOPub message rate exceeded.\n",
      "The notebook server will temporarily stop sending output\n",
      "to the client in order to avoid crashing it.\n",
      "To change this limit, set the config variable\n",
      "`--NotebookApp.iopub_msg_rate_limit`.\n",
      "\n",
      "Current values:\n",
      "NotebookApp.iopub_msg_rate_limit=1000.0 (msgs/sec)\n",
      "NotebookApp.rate_limit_window=3.0 (secs)\n",
      "\n"
     ]
    },
    {
     "name": "stdout",
     "output_type": "stream",
     "text": [
      "[==================--------------------------------] 36.7% 92.6/252.1MB downloaded"
     ]
    },
    {
     "name": "stderr",
     "output_type": "stream",
     "text": [
      "IOPub message rate exceeded.\n",
      "The notebook server will temporarily stop sending output\n",
      "to the client in order to avoid crashing it.\n",
      "To change this limit, set the config variable\n",
      "`--NotebookApp.iopub_msg_rate_limit`.\n",
      "\n",
      "Current values:\n",
      "NotebookApp.iopub_msg_rate_limit=1000.0 (msgs/sec)\n",
      "NotebookApp.rate_limit_window=3.0 (secs)\n",
      "\n"
     ]
    },
    {
     "name": "stdout",
     "output_type": "stream",
     "text": [
      "[================================------------------] 64.7% 163.1/252.1MB downloaded"
     ]
    },
    {
     "name": "stderr",
     "output_type": "stream",
     "text": [
      "IOPub message rate exceeded.\n",
      "The notebook server will temporarily stop sending output\n",
      "to the client in order to avoid crashing it.\n",
      "To change this limit, set the config variable\n",
      "`--NotebookApp.iopub_msg_rate_limit`.\n",
      "\n",
      "Current values:\n",
      "NotebookApp.iopub_msg_rate_limit=1000.0 (msgs/sec)\n",
      "NotebookApp.rate_limit_window=3.0 (secs)\n",
      "\n"
     ]
    },
    {
     "name": "stdout",
     "output_type": "stream",
     "text": [
      "[==============================================----] 93.7% 236.2/252.1MB downloaded"
     ]
    },
    {
     "name": "stderr",
     "output_type": "stream",
     "text": [
      "IOPub message rate exceeded.\n",
      "The notebook server will temporarily stop sending output\n",
      "to the client in order to avoid crashing it.\n",
      "To change this limit, set the config variable\n",
      "`--NotebookApp.iopub_msg_rate_limit`.\n",
      "\n",
      "Current values:\n",
      "NotebookApp.iopub_msg_rate_limit=1000.0 (msgs/sec)\n",
      "NotebookApp.rate_limit_window=3.0 (secs)\n",
      "\n"
     ]
    },
    {
     "name": "stdout",
     "output_type": "stream",
     "text": [
      "Loaded vocab size 400000\n"
     ]
    }
   ],
   "source": [
    "# -----------------------------------\n",
    "# Run Cell to Load Word Vectors\n",
    "# Note: This will take a couple minutes\n",
    "# -----------------------------------\n",
    "wv_from_bin = load_embedding_model()"
   ]
  },
  {
   "cell_type": "markdown",
   "metadata": {
    "id": "egIeG1RTSSuK"
   },
   "source": [
    "#### Note: If you are receiving a \"reset by peer\" error, rerun the cell to restart the download. If you run into an \"attribute\" error, you may need to update to the most recent version of gensim and numpy. You can upgrade them inline by uncommenting and running the below cell:"
   ]
  },
  {
   "cell_type": "code",
   "execution_count": null,
   "metadata": {
    "id": "ZlF5fxSXcq95"
   },
   "outputs": [],
   "source": [
    "#!pip install gensim --upgrade\n",
    "#!pip install numpy --upgrade"
   ]
  },
  {
   "cell_type": "markdown",
   "metadata": {
    "id": "rH9gWJWpSSuL"
   },
   "source": [
    "### Reducing dimensionality of Word Embeddings\n",
    "Let's directly compare the GloVe embeddings to those of the co-occurrence matrix. In order to avoid running out of memory, we will work with a sample of 10000 GloVe vectors instead.\n",
    "Run the following cells to:\n",
    "\n",
    "1. Put 10000 Glove vectors into a matrix M\n",
    "2. Run `reduce_to_k_dim` (your Truncated SVD function) to reduce the vectors from 200-dimensional to 2-dimensional."
   ]
  },
  {
   "cell_type": "code",
   "execution_count": 65,
   "metadata": {
    "id": "0PROUu_-SSuL"
   },
   "outputs": [],
   "source": [
    "def get_matrix_of_vectors(wv_from_bin, required_words):\n",
    "    \"\"\" Put the GloVe vectors into a matrix M.\n",
    "        Param:\n",
    "            wv_from_bin: KeyedVectors object; the 400000 GloVe vectors loaded from file\n",
    "        Return:\n",
    "            M: numpy matrix shape (num words, 200) containing the vectors\n",
    "            word2ind: dictionary mapping each word to its row number in M\n",
    "    \"\"\"\n",
    "    import random\n",
    "    words = list(wv_from_bin.index_to_key)\n",
    "    print(\"Shuffling words ...\")\n",
    "    random.seed(225)\n",
    "    random.shuffle(words)\n",
    "    words = words[:10000]\n",
    "    print(\"Putting %i words into word2ind and matrix M...\" % len(words))\n",
    "    word2ind = {}\n",
    "    M = []\n",
    "    curInd = 0\n",
    "    for w in words:\n",
    "        try:\n",
    "            M.append(wv_from_bin.get_vector(w))\n",
    "            word2ind[w] = curInd\n",
    "            curInd += 1\n",
    "        except KeyError:\n",
    "            continue\n",
    "    for w in required_words:\n",
    "        if w in words:\n",
    "            continue\n",
    "        try:\n",
    "            M.append(wv_from_bin.get_vector(w))\n",
    "            word2ind[w] = curInd\n",
    "            curInd += 1\n",
    "        except KeyError:\n",
    "            continue\n",
    "    M = np.stack(M)\n",
    "    print(\"Done.\")\n",
    "    return M, word2ind"
   ]
  },
  {
   "cell_type": "code",
   "execution_count": 66,
   "metadata": {
    "id": "cpgM0M-hSSuM"
   },
   "outputs": [
    {
     "name": "stdout",
     "output_type": "stream",
     "text": [
      "Shuffling words ...\n",
      "Putting 10000 words into word2ind and matrix M...\n",
      "Done.\n",
      "Running Truncated SVD over 10012 words...\n",
      "Done.\n"
     ]
    }
   ],
   "source": [
    "# -----------------------------------------------------------------\n",
    "# Run Cell to Reduce 200-Dimensional Word Embeddings to k Dimensions\n",
    "# Note: This should be quick to run\n",
    "# -----------------------------------------------------------------\n",
    "M, word2ind = get_matrix_of_vectors(wv_from_bin, words)\n",
    "M_reduced = reduce_to_k_dim(M, k=2)\n",
    "\n",
    "# Rescale (normalize) the rows to make them each of unit-length\n",
    "M_lengths = np.linalg.norm(M_reduced, axis=1)\n",
    "M_reduced_normalized = M_reduced / M_lengths[:, np.newaxis] # broadcasting"
   ]
  },
  {
   "cell_type": "markdown",
   "metadata": {
    "id": "8_46FYMJSSuN"
   },
   "source": [
    "**Note: If you are receiving out of memory issues on your local machine, try closing other applications to free more memory on your device. You may want to try restarting your machine so that you can free up extra memory. Then immediately run the jupyter notebook and see if you can load the word vectors properly. If you still have problems with loading the embeddings onto your local machine after this, please go to office hours or contact course staff.**"
   ]
  },
  {
   "cell_type": "markdown",
   "metadata": {
    "id": "zAFrU8ahSSuO"
   },
   "source": [
    "### Question 2.1: GloVe Plot Analysis [written] (3 points)\n",
    "\n",
    "Run the cell below to plot the 2D GloVe embeddings for `['value', 'gold', 'platinum', 'reserves', 'silver', 'metals', 'copper', 'belgium', 'australia', 'china', 'grammes', \"mine\"]`."
   ]
  },
  {
   "cell_type": "code",
   "execution_count": 67,
   "metadata": {
    "id": "9kHRkjz6SSuO",
    "scrolled": true
   },
   "outputs": [
    {
     "data": {
      "image/png": "[encoded data removed]",
      "text/plain": [
       "<Figure size 1000x500 with 1 Axes>"
      ]
     },
     "metadata": {},
     "output_type": "display_data"
    }
   ],
   "source": [
    "words = ['value', 'gold', 'platinum', 'reserves', 'silver', 'metals', 'copper', 'belgium', 'australia', 'china', 'grammes', \"mine\"]\n",
    "\n",
    "plot_embeddings(M_reduced_normalized, word2ind, words)"
   ]
  },
  {
   "cell_type": "markdown",
   "metadata": {
    "id": "eOnrMZkzSSuP"
   },
   "source": [
    "a. What is one way the plot is different from the one generated earlier from the co-occurrence matrix? What is one way it's similar?"
   ]
  },
  {
   "cell_type": "markdown",
   "metadata": {
    "id": "5KC4PTQoSSuQ"
   },
   "source": [
    "### SOLUTION BEGIN\n",
    "\n",
    "### SOLUTION END"
   ]
  },
  {
   "cell_type": "markdown",
   "metadata": {
    "id": "bNDY5puZSSuQ"
   },
   "source": [
    "b. What is a possible cause for the difference?"
   ]
  },
  {
   "cell_type": "markdown",
   "metadata": {
    "id": "o-cWAvi8SSuR"
   },
   "source": [
    "### SOLUTION BEGIN\n",
    "\n",
    "### SOLUTION END"
   ]
  },
  {
   "cell_type": "markdown",
   "metadata": {
    "id": "nA8oIbjjSSuS"
   },
   "source": [
    "### Cosine Similarity\n",
    "Now that we have word vectors, we need a way to quantify the similarity between individual words, according to these vectors. One such metric is cosine-similarity. We will be using this to find words that are \"close\" and \"far\" from one another.\n",
    "\n",
    "We can think of n-dimensional vectors as points in n-dimensional space. If we take this perspective [L1](http://mathworld.wolfram.com/L1-Norm.html) and [L2](http://mathworld.wolfram.com/L2-Norm.html) Distances help quantify the amount of space \"we must travel\" to get between these two points. Another approach is to examine the angle between two vectors. From trigonometry we know that:\n",
    "\n",
    "<img src=\"./imgs/inner_product.png\" width=20% style=\"float: center;\"></img>\n",
    "\n",
    "Instead of computing the actual angle, we can leave the similarity in terms of $similarity = cos(\\Theta)$. Formally the [Cosine Similarity](https://en.wikipedia.org/wiki/Cosine_similarity) $s$ between two vectors $p$ and $q$ is defined as:\n",
    "\n",
    "$$s = \\frac{p \\cdot q}{||p|| ||q||}, \\textrm{ where } s \\in [-1, 1] $$ "
   ]
  },
  {
   "cell_type": "markdown",
   "metadata": {
    "id": "sFfCOLUsSSuS"
   },
   "source": [
    "### Question 2.2: Words with Multiple Meanings (1.5 points) [code + written] \n",
    "Polysemes and homonyms are words that have more than one meaning (see this [wiki page](https://en.wikipedia.org/wiki/Polysemy) to learn more about the difference between polysemes and homonyms ). Find a word with *at least two different meanings* such that the top-10 most similar words (according to cosine similarity) contain related words from *both* meanings. For example, \"leaves\" has both \"go_away\" and \"a_structure_of_a_plant\" meaning in the top 10, and \"scoop\" has both \"handed_waffle_cone\" and \"lowdown\". You will probably need to try several polysemous or homonymic words before you find one. \n",
    "\n",
    "Please state the word you discover and the multiple meanings that occur in the top 10. Why do you think many of the polysemous or homonymic words you tried didn't work (i.e. the top-10 most similar words only contain **one** of the meanings of the words)?\n",
    "\n",
    "**Note**: You should use the `wv_from_bin.most_similar(word)` function to get the top 10 similar words. This function ranks all other words in the vocabulary with respect to their cosine similarity to the given word. For further assistance, please check the __[GenSim documentation](https://radimrehurek.com/gensim/models/keyedvectors.html#gensim.models.keyedvectors.FastTextKeyedVectors.most_similar)__."
   ]
  },
  {
   "cell_type": "code",
   "execution_count": 68,
   "metadata": {
    "id": "ZAr09U-xSSuT"
   },
   "outputs": [
    {
     "data": {
      "text/plain": [
       "[('running', 0.7378345727920532),\n",
       " ('runs', 0.7364052534103394),\n",
       " ('ran', 0.6960386633872986),\n",
       " ('went', 0.6395289301872253),\n",
       " ('start', 0.6371834874153137),\n",
       " ('allowed', 0.6334168910980225),\n",
       " ('out', 0.6328096985816956),\n",
       " ('go', 0.6265833377838135),\n",
       " ('going', 0.6221196055412292),\n",
       " ('first', 0.6087011694908142)]"
      ]
     },
     "execution_count": 68,
     "metadata": {},
     "output_type": "execute_result"
    }
   ],
   "source": [
    "### SOLUTION BEGIN\n",
    "wv_from_bin.most_similar(\"run\")\n",
    "### SOLUTION END"
   ]
  },
  {
   "cell_type": "markdown",
   "metadata": {
    "id": "VdQ018tjSSuT"
   },
   "source": [
    "### SOLUTION BEGIN\n",
    "Run can mean the action of moving faster than a walking pace. It can also refer to when there is none left of something, as in, \"I ran out of milk\". It can also refer to going to a place \"I ran to the store\". The first context is given by the different tenses of run \"running\", \"runs\", and \"ran\". The second context is seen with the word \"out\" appearing as a similar word. The third context is seen with \"went\". \n",
    "\n",
    "Run was the first word I tried. Other words might not show similar words in multiple contexts because certain contexts may be much more frequently used in the corpus than others.\n",
    "### SOLUTION END"
   ]
  },
  {
   "cell_type": "markdown",
   "metadata": {
    "id": "VfeW-eK9SSuU"
   },
   "source": [
    "### Question 2.3: Synonyms & Antonyms (2 points) [code + written] \n",
    "\n",
    "When considering Cosine Similarity, it's often more convenient to think of Cosine Distance, which is simply 1 - Cosine Similarity.\n",
    "\n",
    "Find three words $(w_1,w_2,w_3)$ where $w_1$ and $w_2$ are synonyms and $w_1$ and $w_3$ are antonyms, but Cosine Distance $(w_1,w_3) <$ Cosine Distance $(w_1,w_2)$. \n",
    "\n",
    "As an example, $w_1$=\"happy\" is closer to $w_3$=\"sad\" than to $w_2$=\"cheerful\". Please find a different example that satisfies the above. Once you have found your example, please give a possible explanation for why this counter-intuitive result may have happened.\n",
    "\n",
    "You should use the the `wv_from_bin.distance(w1, w2)` function here in order to compute the cosine distance between two words. Please see the __[GenSim documentation](https://radimrehurek.com/gensim/models/keyedvectors.html#gensim.models.keyedvectors.FastTextKeyedVectors.distance)__ for further assistance."
   ]
  },
  {
   "cell_type": "code",
   "execution_count": 70,
   "metadata": {
    "id": "bwlpPjpHSSuV"
   },
   "outputs": [
    {
     "name": "stdout",
     "output_type": "stream",
     "text": [
      "Synonyms bad, despicable have cosine distance: 0.8010664731264114\n",
      "Antonyms bad, good have cosine distance: 0.28903740644454956\n"
     ]
    }
   ],
   "source": [
    "### SOLUTION BEGIN\n",
    "\n",
    "w1 = \"bad\"\n",
    "w2 = \"despicable\"\n",
    "w3 = \"good\"\n",
    "w1_w2_dist = wv_from_bin.distance(w1, w2)\n",
    "w1_w3_dist = wv_from_bin.distance(w1, w3)\n",
    "\n",
    "print(\"Synonyms {}, {} have cosine distance: {}\".format(w1, w2, w1_w2_dist))\n",
    "print(\"Antonyms {}, {} have cosine distance: {}\".format(w1, w3, w1_w3_dist))\n",
    "\n",
    "### SOLUTION END"
   ]
  },
  {
   "cell_type": "markdown",
   "metadata": {
    "id": "PeIHjTFMSSuV"
   },
   "source": [
    "### SOLUTION BEGIN\n",
    "Despicable is a more infrequent word than bad and so it less likely to occur in the context of bad. Whereas, good is a word that occurs more commonly\n",
    "### SOLUTION END"
   ]
  },
  {
   "cell_type": "markdown",
   "metadata": {
    "id": "ZxIDq26zSSuW"
   },
   "source": [
    "### Question 2.4: Analogies with Word Vectors [written] (1.5 points)\n",
    "Word vectors have been shown to *sometimes* exhibit the ability to solve analogies. \n",
    "\n",
    "As an example, for the analogy \"man : grandfather :: woman : x\" (read: man is to grandfather as woman is to x), what is x?\n",
    "\n",
    "In the cell below, we show you how to use word vectors to find x using the `most_similar` function from the __[GenSim documentation](https://radimrehurek.com/gensim/models/keyedvectors.html#gensim.models.keyedvectors.KeyedVectors.most_similar)__. The function finds words that are most similar to the words in the `positive` list and most dissimilar from the words in the `negative` list (while omitting the input words, which are often the most similar; see [this paper](https://www.aclweb.org/anthology/N18-2039.pdf)). The answer to the analogy will have the highest cosine similarity (largest returned numerical value)."
   ]
  },
  {
   "cell_type": "code",
   "execution_count": 115,
   "metadata": {
    "id": "u0pC7H4VSSuY",
    "scrolled": true
   },
   "outputs": [
    {
     "name": "stdout",
     "output_type": "stream",
     "text": [
      "[('parks', 0.6268723607063293),\n",
      " ('gardens', 0.5366259813308716),\n",
      " ('forest', 0.5278686881065369),\n",
      " ('recreation', 0.5237506628036499),\n",
      " ('acres', 0.5230029821395874),\n",
      " ('area', 0.500116765499115),\n",
      " ('waterfront', 0.49307766556739807),\n",
      " ('adjacent', 0.4823780357837677),\n",
      " ('acre', 0.4812503457069397),\n",
      " ('riverside', 0.47300171852111816)]\n",
      "[('grandmother', 0.7608445286750793),\n",
      " ('granddaughter', 0.7200808525085449),\n",
      " ('daughter', 0.7168302536010742),\n",
      " ('mother', 0.7151536345481873),\n",
      " ('niece', 0.7005682587623596),\n",
      " ('father', 0.6659887433052063),\n",
      " ('aunt', 0.6623408794403076),\n",
      " ('grandson', 0.6618767976760864),\n",
      " ('grandparents', 0.6446609497070312),\n",
      " ('wife', 0.644535481929779)]\n"
     ]
    }
   ],
   "source": [
    "# Run this cell to answer the analogy -- man : grandfather :: woman :\n",
    "pprint.pprint(wv_from_bin.most_similar(positive=['land', 'park'], negative=['plane']))\n",
    "pprint.pprint(wv_from_bin.most_similar(positive=['grandfather', 'woman'], negative=['man']))"
   ]
  },
  {
   "cell_type": "markdown",
   "metadata": {
    "id": "XVv8I9WwSSuZ"
   },
   "source": [
    "Let $m$, $g$, $w$, and $x$ denote the word vectors for `man`, `grandfather`, `woman`, and the answer, respectively. Using **only** vectors $m$, $g$, $w$, and the vector arithmetic operators $+$ and $-$ in your answer, to what expression are we maximizing $x$'s cosine similarity?\n",
    "\n",
    "Hint: Recall that word vectors are simply multi-dimensional vectors that represent a word. It might help to draw out a 2D example using arbitrary locations of each vector. Where would `man` and `woman` lie in the coordinate plane relative to `grandfather` and the answer?"
   ]
  },
  {
   "cell_type": "markdown",
   "metadata": {
    "id": "KlUKBqtHSSuZ"
   },
   "source": [
    "### SOLUTION BEGIN\n",
    "g-m+w\n",
    "### SOLUTION END"
   ]
  },
  {
   "cell_type": "markdown",
   "metadata": {
    "id": "2rRgMca9SSua"
   },
   "source": [
    "### Question 2.5: Finding Analogies [code + written]  (1.5 points)\n",
    "a. For the previous example, it's clear that \"grandmother\" completes the analogy. But give an intuitive explanation as to why the `most_similar` function gives us words like \"granddaughter\", \"daughter\", or \"mother?"
   ]
  },
  {
   "cell_type": "markdown",
   "metadata": {
    "id": "WgYQXazQSSua"
   },
   "source": [
    "### SOLUTION BEGIN\n",
    "As the objective function of GloVe tries to minimize the squared difference of the dot product of vectors $w_i$ and $w_j$ with the count $X_{ij}$, if two words appear in similar contexts, we expect the dot product of their word embeddings  \n",
    "### SOLUTION END"
   ]
  },
  {
   "cell_type": "markdown",
   "metadata": {
    "id": "p9aAUXEISSub"
   },
   "source": [
    "b. Find an example of analogy that holds according to these vectors (i.e. the intended word is ranked top). In your solution please state the full analogy in the form x:y :: a:b. If you believe the analogy is complicated, explain why the analogy holds in one or two sentences.\n",
    "\n",
    "**Note**: You may have to try many analogies to find one that works!"
   ]
  },
  {
   "cell_type": "code",
   "execution_count": 110,
   "metadata": {
    "id": "dhzQJMYYVSjf"
   },
   "outputs": [],
   "source": [
    "### SOLUTION BEGIN\n",
    "\n",
    "x, y, a, b = \"priest\", \"church\", \"rabbi\", \"synagogue\"\n",
    "assert wv_from_bin.most_similar(positive=[a, y], negative=[x])[0][0] == b\n",
    "\n",
    "### SOLUTION END"
   ]
  },
  {
   "cell_type": "markdown",
   "metadata": {
    "id": "K3QlPqAwSSub"
   },
   "source": [
    "### SOLUTION BEGIN\n",
    "priest: church :: rabbi: synagogue\n",
    "### SOLUTION END"
   ]
  },
  {
   "cell_type": "markdown",
   "metadata": {
    "id": "SwgcEywwSSuc"
   },
   "source": [
    "### Question 2.6: Incorrect Analogy [code + written] (1.5 points)\n",
    "a. Below, we expect to see the intended analogy \"hand : glove :: foot : **sock**\", but we see an unexpected result instead. Give a potential reason as to why this particular analogy turned out the way it did?"
   ]
  },
  {
   "cell_type": "code",
   "execution_count": 111,
   "metadata": {
    "id": "m-ykWoJoSSuc"
   },
   "outputs": [
    {
     "name": "stdout",
     "output_type": "stream",
     "text": [
      "[('45,000-square', 0.4922032058238983),\n",
      " ('15,000-square', 0.4649604558944702),\n",
      " ('10,000-square', 0.45447564125061035),\n",
      " ('6,000-square', 0.44975775480270386),\n",
      " ('3,500-square', 0.4441334009170532),\n",
      " ('700-square', 0.44257497787475586),\n",
      " ('50,000-square', 0.43563973903656006),\n",
      " ('3,000-square', 0.43486514687538147),\n",
      " ('30,000-square', 0.4330596625804901),\n",
      " ('footed', 0.43236875534057617)]\n"
     ]
    }
   ],
   "source": [
    "pprint.pprint(wv_from_bin.most_similar(positive=['foot', 'glove'], negative=['hand']))"
   ]
  },
  {
   "cell_type": "markdown",
   "metadata": {
    "id": "zn4ruS8MSSud"
   },
   "source": [
    "### SOLUTION BEGIN\n",
    "foot can also have the meaning of a measure of length. Potentially, if that meaning is more common in the corpus, it is less likely to see the intended analogy.\n",
    "### SOLUTION END"
   ]
  },
  {
   "cell_type": "markdown",
   "metadata": {
    "id": "D1gHyZt0SSud"
   },
   "source": [
    "b. Find another example of analogy that does *not* hold according to these vectors. In your solution, state the intended analogy in the form x:y :: a:b, and state the **incorrect** value of b according to the word vectors (in the previous example, this would be **'45,000-square'**)."
   ]
  },
  {
   "cell_type": "code",
   "execution_count": 117,
   "metadata": {
    "id": "D_rlci42XQTw"
   },
   "outputs": [
    {
     "name": "stdout",
     "output_type": "stream",
     "text": [
      "[('shoulder', 0.5354692339897156),\n",
      " ('broken', 0.5218135714530945),\n",
      " ('opponent', 0.5213441848754883),\n",
      " ('legs', 0.5121196508407593),\n",
      " ('chest', 0.5104932188987732),\n",
      " ('head', 0.5050267577171326),\n",
      " ('nose', 0.5034701824188232),\n",
      " ('hand', 0.494004487991333),\n",
      " ('throat', 0.4798138439655304),\n",
      " ('running', 0.47899237275123596)]\n"
     ]
    }
   ],
   "source": [
    "### SOLUTION BEGIN\n",
    "\n",
    "x, y, a, b = \"necklace\", \"neck\", \"ring\", \"finger\"\n",
    "pprint.pprint(wv_from_bin.most_similar(positive=[a, y], negative=[x]))\n",
    "\n",
    "### SOLUTION END"
   ]
  },
  {
   "cell_type": "markdown",
   "metadata": {
    "id": "c4x0EHjeSSue"
   },
   "source": [
    "### SOLUTION BEGIN\n",
    "neck: necklace :: ring: finger\n",
    "### SOLUTION END"
   ]
  },
  {
   "cell_type": "markdown",
   "metadata": {
    "id": "yvlycXN-SSuf"
   },
   "source": [
    "### Question 2.7: Guided Analysis of Bias in Word Vectors [written] (1 point)\n",
    "\n",
    "It's important to be cognizant of the biases (gender, race, sexual orientation etc.) implicit in our word embeddings. Bias can be dangerous because it can reinforce stereotypes through applications that employ these models.\n",
    "\n",
    "Run the cell below, to examine (a) which terms are most similar to \"woman\" and \"profession\" and most dissimilar to \"man\", and (b) which terms are most similar to \"man\" and \"profession\" and most dissimilar to \"woman\". Point out the difference between the list of female-associated words and the list of male-associated words, and explain how it is reflecting gender bias."
   ]
  },
  {
   "cell_type": "code",
   "execution_count": 118,
   "metadata": {
    "id": "XggWA4MhSSuf"
   },
   "outputs": [
    {
     "name": "stdout",
     "output_type": "stream",
     "text": [
      "[('reputation', 0.5250176787376404),\n",
      " ('professions', 0.5178037881851196),\n",
      " ('skill', 0.49046966433525085),\n",
      " ('skills', 0.49005505442619324),\n",
      " ('ethic', 0.4897659420967102),\n",
      " ('business', 0.487585186958313),\n",
      " ('respected', 0.485920250415802),\n",
      " ('practice', 0.4821045696735382),\n",
      " ('regarded', 0.4778572618961334),\n",
      " ('life', 0.4760662019252777)]\n",
      "\n",
      "[('professions', 0.5957458019256592),\n",
      " ('practitioner', 0.4988412857055664),\n",
      " ('teaching', 0.48292139172554016),\n",
      " ('nursing', 0.48211804032325745),\n",
      " ('vocation', 0.4788965880870819),\n",
      " ('teacher', 0.47160351276397705),\n",
      " ('practicing', 0.4693780839443207),\n",
      " ('educator', 0.46524327993392944),\n",
      " ('physicians', 0.4628995656967163),\n",
      " ('professionals', 0.46013936400413513)]\n"
     ]
    }
   ],
   "source": [
    "# Run this cell\n",
    "# Here `positive` indicates the list of words to be similar to and `negative` indicates the list of words to be\n",
    "# most dissimilar from.\n",
    "\n",
    "pprint.pprint(wv_from_bin.most_similar(positive=['man', 'profession'], negative=['woman']))\n",
    "print()\n",
    "pprint.pprint(wv_from_bin.most_similar(positive=['woman', 'profession'], negative=['man']))"
   ]
  },
  {
   "cell_type": "markdown",
   "metadata": {
    "id": "x4g6KbsYSSuh"
   },
   "source": [
    "### SOLUTION BEGIN\n",
    "We see that the list of words most similar to the words \"man\" and \"profession\" and dissimilar to \"woman\" contain words like \"respect\", \"reputation\", \"skill\". Whereas words similar to \"woman\" and \"profession\" and dissimilar to \"man\" contain roles commonly thought of as \"female\" roles: \"teaching\", \"nursing\". This shows a gender bias towards woman having certain professions, whereas for men profession is associated with words denoting elevated status.\n",
    "### SOLUTION END"
   ]
  },
  {
   "cell_type": "markdown",
   "metadata": {
    "id": "LxJmnS6lSSui"
   },
   "source": [
    "### Question 2.8: Independent Analysis of Bias in Word Vectors [code + written]  (1 point)\n",
    "\n",
    "Use the `most_similar` function to find another pair of analogies that demonstrates some bias is exhibited by the vectors. Please briefly explain the example of bias that you discover."
   ]
  },
  {
   "cell_type": "code",
   "execution_count": 124,
   "metadata": {
    "id": "PZoDheIfSSui"
   },
   "outputs": [
    {
     "name": "stdout",
     "output_type": "stream",
     "text": [
      "[('asean', 0.44087302684783936),\n",
      " ('asia', 0.4367331564426422),\n",
      " ('competitive', 0.4320269525051117),\n",
      " ('practise', 0.4297845661640167),\n",
      " ('professions', 0.4285961091518402),\n",
      " ('institutions', 0.40928179025650024),\n",
      " ('economies', 0.40903612971305847),\n",
      " ('banking', 0.4072595238685608),\n",
      " ('expertise', 0.4044954776763916),\n",
      " ('accountancy', 0.4044881761074066)]\n",
      "\n",
      "[('professions', 0.4705955386161804),\n",
      " ('wearing', 0.43468213081359863),\n",
      " ('journalistic', 0.4309687912464142),\n",
      " ('uniform', 0.4170811176300049),\n",
      " ('wear', 0.4155266284942627),\n",
      " ('practice', 0.4131499230861664),\n",
      " ('gray', 0.4123786389827728),\n",
      " ('journalism', 0.4108961522579193),\n",
      " ('teaching', 0.40806007385253906),\n",
      " ('badge', 0.40008115768432617)]\n"
     ]
    }
   ],
   "source": [
    "### SOLUTION BEGIN\n",
    "\n",
    "A = \"asian\"\n",
    "B = \"black\"\n",
    "word = \"profession\"\n",
    "pprint.pprint(wv_from_bin.most_similar(positive=[A, word], negative=[B]))\n",
    "print()\n",
    "pprint.pprint(wv_from_bin.most_similar(positive=[B, word], negative=[A]))\n",
    "\n",
    "### SOLUTION END"
   ]
  },
  {
   "cell_type": "markdown",
   "metadata": {
    "id": "TGOlmtJoSSuj"
   },
   "source": [
    "### SOLUTION BEGIN\n",
    "This example shows biases in professions of asians vs black people. Asians are associated with words such as \"banking\", \"accountancy\" whereas black people are associated with \"journalism\" and \"teaching\".\n",
    "### SOLUTION END"
   ]
  },
  {
   "cell_type": "markdown",
   "metadata": {
    "id": "eK2XVWzmSSuk"
   },
   "source": [
    "### Question 2.9: Thinking About Bias [written] (2 points)\n",
    "\n",
    "a. Give one explanation of how bias gets into the word vectors. Briefly describe a real-world example that demonstrates this source of bias."
   ]
  },
  {
   "cell_type": "markdown",
   "metadata": {
    "id": "19pM85fCSSuk"
   },
   "source": [
    "### SOLUTION BEGIN\n",
    "If the corpus contains sentences where certain words appear in particular contexts then the word vectors will reflect these relationships. For example, the word \"woman\" may appear more in the context of words like \"teaching\" and \"nursing\" whereas \"man\" may appear more in the context of \"respect\".\n",
    "### SOLUTION END"
   ]
  },
  {
   "cell_type": "markdown",
   "metadata": {
    "id": "ILYqJZ7ASSul"
   },
   "source": [
    "b. What is one method you can use to mitigate bias exhibited by word vectors?  Briefly describe a real-world example that demonstrates this method."
   ]
  },
  {
   "cell_type": "markdown",
   "metadata": {
    "id": "dnJaAB7mSSul"
   },
   "source": [
    "\n",
    "### SOLUTION BEGIN\n",
    "If you are aware of a potential bias, one way to mitigate it would be to extend/modify the corpus under consideration. For example, if we believe there may be a bias towards women being associated with certain professions, we could add additional text to our corpus from sources which talk about women who are career-driven.\n",
    "### SOLUTION END"
   ]
  },
  {
   "cell_type": "markdown",
   "metadata": {
    "id": "dzh3eEmZSSum"
   },
   "source": [
    "# <font color=\"blue\"> Submission Instructions</font>\n",
    "\n",
    "1. Click the Save button at the top of the Jupyter Notebook.\n",
    "2. Select Cell -> All Output -> Clear. This will clear all the outputs from all cells (but will keep the content of all cells). \n",
    "2. Select Cell -> Run All. This will run all the cells in order, and will take several minutes.\n",
    "3. Once you've rerun everything, select File -> Download as -> PDF via LaTeX (If you have trouble using \"PDF via LaTex\", you can also save the webpage as pdf. <font color='blue'> Make sure all your solutions especially the coding parts are displayed in the pdf</font>, it's okay if the provided codes get cut off because lines are not wrapped in code cells).\n",
    "4. Look at the PDF file and make sure all your solutions are there, displayed correctly. The PDF is the only thing your graders will see!\n",
    "5. Submit your PDF on Gradescope."
   ]
  }
 ],
 "metadata": {
  "anaconda-cloud": {},
  "colab": {
   "provenance": []
  },
  "kernelspec": {
   "display_name": "Python 3 (ipykernel)",
   "language": "python",
   "name": "python3"
  },
  "language_info": {
   "codemirror_mode": {
    "name": "ipython",
    "version": 3
   },
   "file_extension": ".py",
   "mimetype": "text/x-python",
   "name": "python",
   "nbconvert_exporter": "python",
   "pygments_lexer": "ipython3",
   "version": "3.10.9"
  }
 },
 "nbformat": 4,
 "nbformat_minor": 1
}
